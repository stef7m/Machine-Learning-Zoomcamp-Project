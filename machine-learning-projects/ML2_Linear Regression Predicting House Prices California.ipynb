{
 "cells": [
  {
   "cell_type": "code",
   "execution_count": 1,
   "id": "d644cb66",
   "metadata": {},
   "outputs": [],
   "source": [
    "import pandas as pd\n",
    "import numpy as np\n",
    "\n",
    "import seaborn as sns\n",
    "from matplotlib import pyplot as plt\n",
    "%matplotlib inline"
   ]
  },
  {
   "cell_type": "code",
   "execution_count": 2,
   "id": "3a4740e0",
   "metadata": {},
   "outputs": [],
   "source": [
    "from sklearn.datasets import fetch_california_housing"
   ]
  },
  {
   "cell_type": "code",
   "execution_count": 3,
   "id": "139e469d",
   "metadata": {},
   "outputs": [],
   "source": [
    "# getting the data\n",
    "\n",
    "data = fetch_california_housing()"
   ]
  },
  {
   "cell_type": "code",
   "execution_count": 4,
   "id": "5cb7eb98",
   "metadata": {},
   "outputs": [
    {
     "data": {
      "text/html": [
       "<div>\n",
       "<style scoped>\n",
       "    .dataframe tbody tr th:only-of-type {\n",
       "        vertical-align: middle;\n",
       "    }\n",
       "\n",
       "    .dataframe tbody tr th {\n",
       "        vertical-align: top;\n",
       "    }\n",
       "\n",
       "    .dataframe thead th {\n",
       "        text-align: right;\n",
       "    }\n",
       "</style>\n",
       "<table border=\"1\" class=\"dataframe\">\n",
       "  <thead>\n",
       "    <tr style=\"text-align: right;\">\n",
       "      <th></th>\n",
       "      <th>MedInc</th>\n",
       "      <th>HouseAge</th>\n",
       "      <th>AveRooms</th>\n",
       "      <th>AveBedrms</th>\n",
       "      <th>Population</th>\n",
       "      <th>AveOccup</th>\n",
       "      <th>Latitude</th>\n",
       "      <th>Longitude</th>\n",
       "    </tr>\n",
       "  </thead>\n",
       "  <tbody>\n",
       "    <tr>\n",
       "      <th>0</th>\n",
       "      <td>8.3252</td>\n",
       "      <td>41.0</td>\n",
       "      <td>6.984127</td>\n",
       "      <td>1.023810</td>\n",
       "      <td>322.0</td>\n",
       "      <td>2.555556</td>\n",
       "      <td>37.88</td>\n",
       "      <td>-122.23</td>\n",
       "    </tr>\n",
       "    <tr>\n",
       "      <th>1</th>\n",
       "      <td>8.3014</td>\n",
       "      <td>21.0</td>\n",
       "      <td>6.238137</td>\n",
       "      <td>0.971880</td>\n",
       "      <td>2401.0</td>\n",
       "      <td>2.109842</td>\n",
       "      <td>37.86</td>\n",
       "      <td>-122.22</td>\n",
       "    </tr>\n",
       "    <tr>\n",
       "      <th>2</th>\n",
       "      <td>7.2574</td>\n",
       "      <td>52.0</td>\n",
       "      <td>8.288136</td>\n",
       "      <td>1.073446</td>\n",
       "      <td>496.0</td>\n",
       "      <td>2.802260</td>\n",
       "      <td>37.85</td>\n",
       "      <td>-122.24</td>\n",
       "    </tr>\n",
       "    <tr>\n",
       "      <th>3</th>\n",
       "      <td>5.6431</td>\n",
       "      <td>52.0</td>\n",
       "      <td>5.817352</td>\n",
       "      <td>1.073059</td>\n",
       "      <td>558.0</td>\n",
       "      <td>2.547945</td>\n",
       "      <td>37.85</td>\n",
       "      <td>-122.25</td>\n",
       "    </tr>\n",
       "    <tr>\n",
       "      <th>4</th>\n",
       "      <td>3.8462</td>\n",
       "      <td>52.0</td>\n",
       "      <td>6.281853</td>\n",
       "      <td>1.081081</td>\n",
       "      <td>565.0</td>\n",
       "      <td>2.181467</td>\n",
       "      <td>37.85</td>\n",
       "      <td>-122.25</td>\n",
       "    </tr>\n",
       "    <tr>\n",
       "      <th>...</th>\n",
       "      <td>...</td>\n",
       "      <td>...</td>\n",
       "      <td>...</td>\n",
       "      <td>...</td>\n",
       "      <td>...</td>\n",
       "      <td>...</td>\n",
       "      <td>...</td>\n",
       "      <td>...</td>\n",
       "    </tr>\n",
       "    <tr>\n",
       "      <th>20635</th>\n",
       "      <td>1.5603</td>\n",
       "      <td>25.0</td>\n",
       "      <td>5.045455</td>\n",
       "      <td>1.133333</td>\n",
       "      <td>845.0</td>\n",
       "      <td>2.560606</td>\n",
       "      <td>39.48</td>\n",
       "      <td>-121.09</td>\n",
       "    </tr>\n",
       "    <tr>\n",
       "      <th>20636</th>\n",
       "      <td>2.5568</td>\n",
       "      <td>18.0</td>\n",
       "      <td>6.114035</td>\n",
       "      <td>1.315789</td>\n",
       "      <td>356.0</td>\n",
       "      <td>3.122807</td>\n",
       "      <td>39.49</td>\n",
       "      <td>-121.21</td>\n",
       "    </tr>\n",
       "    <tr>\n",
       "      <th>20637</th>\n",
       "      <td>1.7000</td>\n",
       "      <td>17.0</td>\n",
       "      <td>5.205543</td>\n",
       "      <td>1.120092</td>\n",
       "      <td>1007.0</td>\n",
       "      <td>2.325635</td>\n",
       "      <td>39.43</td>\n",
       "      <td>-121.22</td>\n",
       "    </tr>\n",
       "    <tr>\n",
       "      <th>20638</th>\n",
       "      <td>1.8672</td>\n",
       "      <td>18.0</td>\n",
       "      <td>5.329513</td>\n",
       "      <td>1.171920</td>\n",
       "      <td>741.0</td>\n",
       "      <td>2.123209</td>\n",
       "      <td>39.43</td>\n",
       "      <td>-121.32</td>\n",
       "    </tr>\n",
       "    <tr>\n",
       "      <th>20639</th>\n",
       "      <td>2.3886</td>\n",
       "      <td>16.0</td>\n",
       "      <td>5.254717</td>\n",
       "      <td>1.162264</td>\n",
       "      <td>1387.0</td>\n",
       "      <td>2.616981</td>\n",
       "      <td>39.37</td>\n",
       "      <td>-121.24</td>\n",
       "    </tr>\n",
       "  </tbody>\n",
       "</table>\n",
       "<p>20640 rows × 8 columns</p>\n",
       "</div>"
      ],
      "text/plain": [
       "       MedInc  HouseAge  AveRooms  AveBedrms  Population  AveOccup  Latitude  \\\n",
       "0      8.3252      41.0  6.984127   1.023810       322.0  2.555556     37.88   \n",
       "1      8.3014      21.0  6.238137   0.971880      2401.0  2.109842     37.86   \n",
       "2      7.2574      52.0  8.288136   1.073446       496.0  2.802260     37.85   \n",
       "3      5.6431      52.0  5.817352   1.073059       558.0  2.547945     37.85   \n",
       "4      3.8462      52.0  6.281853   1.081081       565.0  2.181467     37.85   \n",
       "...       ...       ...       ...        ...         ...       ...       ...   \n",
       "20635  1.5603      25.0  5.045455   1.133333       845.0  2.560606     39.48   \n",
       "20636  2.5568      18.0  6.114035   1.315789       356.0  3.122807     39.49   \n",
       "20637  1.7000      17.0  5.205543   1.120092      1007.0  2.325635     39.43   \n",
       "20638  1.8672      18.0  5.329513   1.171920       741.0  2.123209     39.43   \n",
       "20639  2.3886      16.0  5.254717   1.162264      1387.0  2.616981     39.37   \n",
       "\n",
       "       Longitude  \n",
       "0        -122.23  \n",
       "1        -122.22  \n",
       "2        -122.24  \n",
       "3        -122.25  \n",
       "4        -122.25  \n",
       "...          ...  \n",
       "20635    -121.09  \n",
       "20636    -121.21  \n",
       "20637    -121.22  \n",
       "20638    -121.32  \n",
       "20639    -121.24  \n",
       "\n",
       "[20640 rows x 8 columns]"
      ]
     },
     "execution_count": 4,
     "metadata": {},
     "output_type": "execute_result"
    }
   ],
   "source": [
    "# creating a df from the features\n",
    "\n",
    "df = pd.DataFrame(data.data, columns=data.feature_names)\n",
    "df"
   ]
  },
  {
   "cell_type": "code",
   "execution_count": 5,
   "id": "15827209",
   "metadata": {},
   "outputs": [],
   "source": [
    "# adding the target variable which is the price\n",
    "\n",
    "df['MedHouseValue'] = data.target"
   ]
  },
  {
   "cell_type": "code",
   "execution_count": 6,
   "id": "515e8e72",
   "metadata": {},
   "outputs": [
    {
     "name": "stdout",
     "output_type": "stream",
     "text": [
      "<class 'pandas.core.frame.DataFrame'>\n",
      "RangeIndex: 20640 entries, 0 to 20639\n",
      "Data columns (total 9 columns):\n",
      " #   Column         Non-Null Count  Dtype  \n",
      "---  ------         --------------  -----  \n",
      " 0   MedInc         20640 non-null  float64\n",
      " 1   HouseAge       20640 non-null  float64\n",
      " 2   AveRooms       20640 non-null  float64\n",
      " 3   AveBedrms      20640 non-null  float64\n",
      " 4   Population     20640 non-null  float64\n",
      " 5   AveOccup       20640 non-null  float64\n",
      " 6   Latitude       20640 non-null  float64\n",
      " 7   Longitude      20640 non-null  float64\n",
      " 8   MedHouseValue  20640 non-null  float64\n",
      "dtypes: float64(9)\n",
      "memory usage: 1.4 MB\n"
     ]
    }
   ],
   "source": [
    "df.info()"
   ]
  },
  {
   "cell_type": "code",
   "execution_count": 7,
   "id": "d4c60cb8",
   "metadata": {},
   "outputs": [
    {
     "data": {
      "text/plain": [
       "Index(['medinc', 'houseage', 'averooms', 'avebedrms', 'population', 'aveoccup',\n",
       "       'latitude', 'longitude', 'medhousevalue'],\n",
       "      dtype='object')"
      ]
     },
     "execution_count": 7,
     "metadata": {},
     "output_type": "execute_result"
    }
   ],
   "source": [
    "# normalising headers' format\n",
    "\n",
    "df.columns = df.columns.str.lower()\n",
    "df.columns"
   ]
  },
  {
   "cell_type": "code",
   "execution_count": 8,
   "id": "b6e40e9f",
   "metadata": {},
   "outputs": [
    {
     "data": {
      "text/plain": [
       "<AxesSubplot:xlabel='medhousevalue', ylabel='Count'>"
      ]
     },
     "execution_count": 8,
     "metadata": {},
     "output_type": "execute_result"
    },
    {
     "data": {
      "image/png": "[encoded data removed]",
      "text/plain": [
       "<Figure size 640x480 with 1 Axes>"
      ]
     },
     "metadata": {},
     "output_type": "display_data"
    }
   ],
   "source": [
    "# checking the distribution of my target variable medhousevalue\n",
    "\n",
    "sns.histplot(df.medhousevalue) "
   ]
  },
  {
   "cell_type": "markdown",
   "id": "2b3b286d",
   "metadata": {},
   "source": [
    "### Reviewing the histogram\n",
    "\n",
    "- Skewness : the distribution of medhousevalue appears to be right-skewed, meaning that there are more observations on the lower end of the values, and fewer as the value increases.\n",
    "- Possible capping at the upper end? : the spike around the value of 5 suggests that the data might be capped or clipped at that point. This could be due to how the data was collected or limited to a maximum value of 5. This “ceiling effect” could affect my model’s performance since values above 5 are not represented accurately.\n",
    "- Wide range of values: the values of medhousevalue range from 0 to 5, indicating a relatively wide spread in the data."
   ]
  },
  {
   "cell_type": "code",
   "execution_count": 10,
   "id": "30c474ca",
   "metadata": {},
   "outputs": [
    {
     "data": {
      "text/plain": [
       "0        1.709464\n",
       "1        1.522790\n",
       "2        1.508733\n",
       "3        1.484555\n",
       "4        1.486592\n",
       "           ...   \n",
       "20635    0.577175\n",
       "20636    0.571544\n",
       "20637    0.653886\n",
       "20638    0.613563\n",
       "20639    0.638691\n",
       "Name: medhousevalue, Length: 20640, dtype: float64"
      ]
     },
     "execution_count": 10,
     "metadata": {},
     "output_type": "execute_result"
    }
   ],
   "source": [
    "# applying a logarithmic transformation to help normalize the data\n",
    "\n",
    "price_logs = np.log1p(df.medhousevalue)\n",
    "price_logs"
   ]
  },
  {
   "cell_type": "code",
   "execution_count": 11,
   "id": "3498ad54",
   "metadata": {},
   "outputs": [
    {
     "data": {
      "text/plain": [
       "<AxesSubplot:xlabel='medhousevalue', ylabel='Count'>"
      ]
     },
     "execution_count": 11,
     "metadata": {},
     "output_type": "execute_result"
    },
    {
     "data": {
      "image/png": "[encoded data removed]",
      "text/plain": [
       "<Figure size 640x480 with 1 Axes>"
      ]
     },
     "metadata": {},
     "output_type": "display_data"
    }
   ],
   "source": [
    "# replotting the histogram\n",
    "\n",
    "sns.histplot(price_logs)"
   ]
  },
  {
   "cell_type": "code",
   "execution_count": 12,
   "id": "c43a32a8",
   "metadata": {},
   "outputs": [
    {
     "data": {
      "text/plain": [
       "medinc           0\n",
       "houseage         0\n",
       "averooms         0\n",
       "avebedrms        0\n",
       "population       0\n",
       "aveoccup         0\n",
       "latitude         0\n",
       "longitude        0\n",
       "medhousevalue    0\n",
       "dtype: int64"
      ]
     },
     "execution_count": 12,
     "metadata": {},
     "output_type": "execute_result"
    }
   ],
   "source": [
    "# locating missing values\n",
    "\n",
    "df.isnull().sum()"
   ]
  },
  {
   "cell_type": "code",
   "execution_count": 13,
   "id": "49dc94d4",
   "metadata": {},
   "outputs": [],
   "source": [
    "# splitting the df to validation, test and train sets\n",
    "\n",
    "n = len(df)\n",
    "n_val = int(len(df) * 0.2) # 20% for validation\n",
    "n_test =  int(len(df) * 0.2) # 20% for testing\n",
    "n_train = int(len(df) * 0.6) # 60% for training"
   ]
  },
  {
   "cell_type": "code",
   "execution_count": 14,
   "id": "088ddb73",
   "metadata": {},
   "outputs": [
    {
     "data": {
      "text/plain": [
       "(20640, 20640)"
      ]
     },
     "execution_count": 14,
     "metadata": {},
     "output_type": "execute_result"
    }
   ],
   "source": [
    "# checking if the n matches the sum of n_val, n_test and n_train\n",
    "\n",
    "n, n_val + n_test + n_train"
   ]
  },
  {
   "cell_type": "code",
   "execution_count": 15,
   "id": "ce997ec0",
   "metadata": {},
   "outputs": [],
   "source": [
    "# setting up index in order to shuffle data\n",
    "\n",
    "idx = np.arange(n)\n",
    "np.random.seed(2)\n",
    "np.random.shuffle(idx)"
   ]
  },
  {
   "cell_type": "code",
   "execution_count": 16,
   "id": "b3b5f88f",
   "metadata": {},
   "outputs": [],
   "source": [
    "# creating the dfs based on new index\n",
    "\n",
    "df_train = df.iloc[idx[:n_train]]\n",
    "df_val = df.iloc[idx[n_train:n_train+n_val]]\n",
    "df_test = df.iloc[idx[n_train+n_val:]]"
   ]
  },
  {
   "cell_type": "code",
   "execution_count": 17,
   "id": "16912a1a",
   "metadata": {},
   "outputs": [
    {
     "data": {
      "text/html": [
       "<div>\n",
       "<style scoped>\n",
       "    .dataframe tbody tr th:only-of-type {\n",
       "        vertical-align: middle;\n",
       "    }\n",
       "\n",
       "    .dataframe tbody tr th {\n",
       "        vertical-align: top;\n",
       "    }\n",
       "\n",
       "    .dataframe thead th {\n",
       "        text-align: right;\n",
       "    }\n",
       "</style>\n",
       "<table border=\"1\" class=\"dataframe\">\n",
       "  <thead>\n",
       "    <tr style=\"text-align: right;\">\n",
       "      <th></th>\n",
       "      <th>medinc</th>\n",
       "      <th>houseage</th>\n",
       "      <th>averooms</th>\n",
       "      <th>avebedrms</th>\n",
       "      <th>population</th>\n",
       "      <th>aveoccup</th>\n",
       "      <th>latitude</th>\n",
       "      <th>longitude</th>\n",
       "      <th>medhousevalue</th>\n",
       "    </tr>\n",
       "  </thead>\n",
       "  <tbody>\n",
       "    <tr>\n",
       "      <th>10385</th>\n",
       "      <td>6.4114</td>\n",
       "      <td>15.0</td>\n",
       "      <td>7.527559</td>\n",
       "      <td>1.049869</td>\n",
       "      <td>2529.0</td>\n",
       "      <td>3.318898</td>\n",
       "      <td>33.60</td>\n",
       "      <td>-117.65</td>\n",
       "      <td>2.787</td>\n",
       "    </tr>\n",
       "    <tr>\n",
       "      <th>1943</th>\n",
       "      <td>4.1843</td>\n",
       "      <td>12.0</td>\n",
       "      <td>6.330084</td>\n",
       "      <td>1.041783</td>\n",
       "      <td>2033.0</td>\n",
       "      <td>2.831476</td>\n",
       "      <td>38.62</td>\n",
       "      <td>-120.91</td>\n",
       "      <td>2.076</td>\n",
       "    </tr>\n",
       "    <tr>\n",
       "      <th>7490</th>\n",
       "      <td>1.7411</td>\n",
       "      <td>35.0</td>\n",
       "      <td>5.369159</td>\n",
       "      <td>1.294393</td>\n",
       "      <td>909.0</td>\n",
       "      <td>4.247664</td>\n",
       "      <td>33.93</td>\n",
       "      <td>-118.23</td>\n",
       "      <td>0.967</td>\n",
       "    </tr>\n",
       "    <tr>\n",
       "      <th>16889</th>\n",
       "      <td>3.4412</td>\n",
       "      <td>39.0</td>\n",
       "      <td>4.173405</td>\n",
       "      <td>1.074573</td>\n",
       "      <td>2156.0</td>\n",
       "      <td>1.937107</td>\n",
       "      <td>37.59</td>\n",
       "      <td>-122.37</td>\n",
       "      <td>3.538</td>\n",
       "    </tr>\n",
       "    <tr>\n",
       "      <th>11416</th>\n",
       "      <td>7.8195</td>\n",
       "      <td>16.0</td>\n",
       "      <td>8.602349</td>\n",
       "      <td>1.058725</td>\n",
       "      <td>2142.0</td>\n",
       "      <td>3.593960</td>\n",
       "      <td>33.70</td>\n",
       "      <td>-117.98</td>\n",
       "      <td>3.905</td>\n",
       "    </tr>\n",
       "    <tr>\n",
       "      <th>10297</th>\n",
       "      <td>5.4570</td>\n",
       "      <td>13.0</td>\n",
       "      <td>4.716332</td>\n",
       "      <td>1.041547</td>\n",
       "      <td>1565.0</td>\n",
       "      <td>2.242120</td>\n",
       "      <td>33.92</td>\n",
       "      <td>-117.88</td>\n",
       "      <td>3.088</td>\n",
       "    </tr>\n",
       "    <tr>\n",
       "      <th>16843</th>\n",
       "      <td>4.7625</td>\n",
       "      <td>35.0</td>\n",
       "      <td>5.303942</td>\n",
       "      <td>0.994813</td>\n",
       "      <td>3004.0</td>\n",
       "      <td>3.116183</td>\n",
       "      <td>37.63</td>\n",
       "      <td>-122.44</td>\n",
       "      <td>2.813</td>\n",
       "    </tr>\n",
       "    <tr>\n",
       "      <th>11528</th>\n",
       "      <td>2.2708</td>\n",
       "      <td>26.0</td>\n",
       "      <td>3.947059</td>\n",
       "      <td>1.080392</td>\n",
       "      <td>664.0</td>\n",
       "      <td>1.301961</td>\n",
       "      <td>33.77</td>\n",
       "      <td>-118.08</td>\n",
       "      <td>0.675</td>\n",
       "    </tr>\n",
       "    <tr>\n",
       "      <th>18951</th>\n",
       "      <td>3.8150</td>\n",
       "      <td>37.0</td>\n",
       "      <td>5.783550</td>\n",
       "      <td>1.086580</td>\n",
       "      <td>680.0</td>\n",
       "      <td>2.943723</td>\n",
       "      <td>38.25</td>\n",
       "      <td>-122.05</td>\n",
       "      <td>0.990</td>\n",
       "    </tr>\n",
       "    <tr>\n",
       "      <th>3728</th>\n",
       "      <td>3.8906</td>\n",
       "      <td>31.0</td>\n",
       "      <td>4.767258</td>\n",
       "      <td>1.005917</td>\n",
       "      <td>1102.0</td>\n",
       "      <td>2.173570</td>\n",
       "      <td>34.18</td>\n",
       "      <td>-118.43</td>\n",
       "      <td>2.822</td>\n",
       "    </tr>\n",
       "  </tbody>\n",
       "</table>\n",
       "</div>"
      ],
      "text/plain": [
       "       medinc  houseage  averooms  avebedrms  population  aveoccup  latitude  \\\n",
       "10385  6.4114      15.0  7.527559   1.049869      2529.0  3.318898     33.60   \n",
       "1943   4.1843      12.0  6.330084   1.041783      2033.0  2.831476     38.62   \n",
       "7490   1.7411      35.0  5.369159   1.294393       909.0  4.247664     33.93   \n",
       "16889  3.4412      39.0  4.173405   1.074573      2156.0  1.937107     37.59   \n",
       "11416  7.8195      16.0  8.602349   1.058725      2142.0  3.593960     33.70   \n",
       "10297  5.4570      13.0  4.716332   1.041547      1565.0  2.242120     33.92   \n",
       "16843  4.7625      35.0  5.303942   0.994813      3004.0  3.116183     37.63   \n",
       "11528  2.2708      26.0  3.947059   1.080392       664.0  1.301961     33.77   \n",
       "18951  3.8150      37.0  5.783550   1.086580       680.0  2.943723     38.25   \n",
       "3728   3.8906      31.0  4.767258   1.005917      1102.0  2.173570     34.18   \n",
       "\n",
       "       longitude  medhousevalue  \n",
       "10385    -117.65          2.787  \n",
       "1943     -120.91          2.076  \n",
       "7490     -118.23          0.967  \n",
       "16889    -122.37          3.538  \n",
       "11416    -117.98          3.905  \n",
       "10297    -117.88          3.088  \n",
       "16843    -122.44          2.813  \n",
       "11528    -118.08          0.675  \n",
       "18951    -122.05          0.990  \n",
       "3728     -118.43          2.822  "
      ]
     },
     "execution_count": 17,
     "metadata": {},
     "output_type": "execute_result"
    }
   ],
   "source": [
    "df_train.head(10)"
   ]
  },
  {
   "cell_type": "code",
   "execution_count": 18,
   "id": "f9bdf269",
   "metadata": {},
   "outputs": [
    {
     "data": {
      "text/plain": [
       "(12384, 4128, 4128)"
      ]
     },
     "execution_count": 18,
     "metadata": {},
     "output_type": "execute_result"
    }
   ],
   "source": [
    "# checking the length of the each df\n",
    "\n",
    "len(df_train), len(df_val), len(df_test)"
   ]
  },
  {
   "cell_type": "code",
   "execution_count": 19,
   "id": "ea030171",
   "metadata": {},
   "outputs": [],
   "source": [
    "# resetting the index since it's not necessary\n",
    "\n",
    "df_train = df_train.reset_index(drop=True)\n",
    "df_val = df_val.reset_index(drop=True)\n",
    "df_test = df_test.reset_index(drop=True)"
   ]
  },
  {
   "cell_type": "code",
   "execution_count": 20,
   "id": "cb6f127d",
   "metadata": {},
   "outputs": [],
   "source": [
    "# setting y variable (applying logarithmic to prepare the medhousevalue column)\n",
    "\n",
    "y_train = np.log1p(df_train.medhousevalue.values)\n",
    "y_val = np.log1p(df_val.medhousevalue.values)\n",
    "y_test = np.log1p(df_test.medhousevalue.values)"
   ]
  },
  {
   "cell_type": "code",
   "execution_count": 21,
   "id": "130c25e2",
   "metadata": {},
   "outputs": [],
   "source": [
    "# removing medhousevalue variable from df_train\n",
    "\n",
    "del df_train['medhousevalue']\n",
    "del df_val['medhousevalue']\n",
    "del df_test['medhousevalue']"
   ]
  },
  {
   "cell_type": "markdown",
   "id": "f10bd4c4",
   "metadata": {},
   "source": [
    "# Implementing linear regression"
   ]
  },
  {
   "cell_type": "code",
   "execution_count": 22,
   "id": "bfbd23e2",
   "metadata": {},
   "outputs": [
    {
     "data": {
      "text/html": [
       "<div>\n",
       "<style scoped>\n",
       "    .dataframe tbody tr th:only-of-type {\n",
       "        vertical-align: middle;\n",
       "    }\n",
       "\n",
       "    .dataframe tbody tr th {\n",
       "        vertical-align: top;\n",
       "    }\n",
       "\n",
       "    .dataframe thead th {\n",
       "        text-align: right;\n",
       "    }\n",
       "</style>\n",
       "<table border=\"1\" class=\"dataframe\">\n",
       "  <thead>\n",
       "    <tr style=\"text-align: right;\">\n",
       "      <th></th>\n",
       "      <th>medinc</th>\n",
       "      <th>houseage</th>\n",
       "      <th>averooms</th>\n",
       "      <th>avebedrms</th>\n",
       "      <th>population</th>\n",
       "      <th>aveoccup</th>\n",
       "    </tr>\n",
       "  </thead>\n",
       "  <tbody>\n",
       "    <tr>\n",
       "      <th>0</th>\n",
       "      <td>6.4114</td>\n",
       "      <td>15.0</td>\n",
       "      <td>7.527559</td>\n",
       "      <td>1.049869</td>\n",
       "      <td>2529.0</td>\n",
       "      <td>3.318898</td>\n",
       "    </tr>\n",
       "    <tr>\n",
       "      <th>1</th>\n",
       "      <td>4.1843</td>\n",
       "      <td>12.0</td>\n",
       "      <td>6.330084</td>\n",
       "      <td>1.041783</td>\n",
       "      <td>2033.0</td>\n",
       "      <td>2.831476</td>\n",
       "    </tr>\n",
       "    <tr>\n",
       "      <th>2</th>\n",
       "      <td>1.7411</td>\n",
       "      <td>35.0</td>\n",
       "      <td>5.369159</td>\n",
       "      <td>1.294393</td>\n",
       "      <td>909.0</td>\n",
       "      <td>4.247664</td>\n",
       "    </tr>\n",
       "    <tr>\n",
       "      <th>3</th>\n",
       "      <td>3.4412</td>\n",
       "      <td>39.0</td>\n",
       "      <td>4.173405</td>\n",
       "      <td>1.074573</td>\n",
       "      <td>2156.0</td>\n",
       "      <td>1.937107</td>\n",
       "    </tr>\n",
       "    <tr>\n",
       "      <th>4</th>\n",
       "      <td>7.8195</td>\n",
       "      <td>16.0</td>\n",
       "      <td>8.602349</td>\n",
       "      <td>1.058725</td>\n",
       "      <td>2142.0</td>\n",
       "      <td>3.593960</td>\n",
       "    </tr>\n",
       "    <tr>\n",
       "      <th>...</th>\n",
       "      <td>...</td>\n",
       "      <td>...</td>\n",
       "      <td>...</td>\n",
       "      <td>...</td>\n",
       "      <td>...</td>\n",
       "      <td>...</td>\n",
       "    </tr>\n",
       "    <tr>\n",
       "      <th>12379</th>\n",
       "      <td>2.6771</td>\n",
       "      <td>23.0</td>\n",
       "      <td>3.748454</td>\n",
       "      <td>1.076289</td>\n",
       "      <td>958.0</td>\n",
       "      <td>1.975258</td>\n",
       "    </tr>\n",
       "    <tr>\n",
       "      <th>12380</th>\n",
       "      <td>2.5568</td>\n",
       "      <td>32.0</td>\n",
       "      <td>3.731935</td>\n",
       "      <td>1.090909</td>\n",
       "      <td>731.0</td>\n",
       "      <td>1.703963</td>\n",
       "    </tr>\n",
       "    <tr>\n",
       "      <th>12381</th>\n",
       "      <td>6.2210</td>\n",
       "      <td>52.0</td>\n",
       "      <td>6.571429</td>\n",
       "      <td>0.966667</td>\n",
       "      <td>530.0</td>\n",
       "      <td>2.523810</td>\n",
       "    </tr>\n",
       "    <tr>\n",
       "      <th>12382</th>\n",
       "      <td>4.6071</td>\n",
       "      <td>52.0</td>\n",
       "      <td>6.030189</td>\n",
       "      <td>1.075472</td>\n",
       "      <td>689.0</td>\n",
       "      <td>2.600000</td>\n",
       "    </tr>\n",
       "    <tr>\n",
       "      <th>12383</th>\n",
       "      <td>4.6366</td>\n",
       "      <td>40.0</td>\n",
       "      <td>5.311765</td>\n",
       "      <td>1.021569</td>\n",
       "      <td>1156.0</td>\n",
       "      <td>2.266667</td>\n",
       "    </tr>\n",
       "  </tbody>\n",
       "</table>\n",
       "<p>12384 rows × 6 columns</p>\n",
       "</div>"
      ],
      "text/plain": [
       "       medinc  houseage  averooms  avebedrms  population  aveoccup\n",
       "0      6.4114      15.0  7.527559   1.049869      2529.0  3.318898\n",
       "1      4.1843      12.0  6.330084   1.041783      2033.0  2.831476\n",
       "2      1.7411      35.0  5.369159   1.294393       909.0  4.247664\n",
       "3      3.4412      39.0  4.173405   1.074573      2156.0  1.937107\n",
       "4      7.8195      16.0  8.602349   1.058725      2142.0  3.593960\n",
       "...       ...       ...       ...        ...         ...       ...\n",
       "12379  2.6771      23.0  3.748454   1.076289       958.0  1.975258\n",
       "12380  2.5568      32.0  3.731935   1.090909       731.0  1.703963\n",
       "12381  6.2210      52.0  6.571429   0.966667       530.0  2.523810\n",
       "12382  4.6071      52.0  6.030189   1.075472       689.0  2.600000\n",
       "12383  4.6366      40.0  5.311765   1.021569      1156.0  2.266667\n",
       "\n",
       "[12384 rows x 6 columns]"
      ]
     },
     "execution_count": 22,
     "metadata": {},
     "output_type": "execute_result"
    }
   ],
   "source": [
    "# defining feature columns (all columns except the target variable 'medhousevalue')\n",
    "\n",
    "base = ['medinc', 'houseage', 'averooms', 'avebedrms', 'population', 'aveoccup']\n",
    "df_train[base]"
   ]
  },
  {
   "cell_type": "code",
   "execution_count": 23,
   "id": "bdb51ac9",
   "metadata": {},
   "outputs": [
    {
     "data": {
      "text/plain": [
       "array([[6.41140000e+00, 1.50000000e+01, 7.52755906e+00, 1.04986877e+00,\n",
       "        2.52900000e+03, 3.31889764e+00],\n",
       "       [4.18430000e+00, 1.20000000e+01, 6.33008357e+00, 1.04178273e+00,\n",
       "        2.03300000e+03, 2.83147632e+00],\n",
       "       [1.74110000e+00, 3.50000000e+01, 5.36915888e+00, 1.29439252e+00,\n",
       "        9.09000000e+02, 4.24766355e+00],\n",
       "       ...,\n",
       "       [6.22100000e+00, 5.20000000e+01, 6.57142857e+00, 9.66666667e-01,\n",
       "        5.30000000e+02, 2.52380952e+00],\n",
       "       [4.60710000e+00, 5.20000000e+01, 6.03018868e+00, 1.07547170e+00,\n",
       "        6.89000000e+02, 2.60000000e+00],\n",
       "       [4.63660000e+00, 4.00000000e+01, 5.31176471e+00, 1.02156863e+00,\n",
       "        1.15600000e+03, 2.26666667e+00]])"
      ]
     },
     "execution_count": 23,
     "metadata": {},
     "output_type": "execute_result"
    }
   ],
   "source": [
    "# exrtracting the values from the columns\n",
    "\n",
    "X_train = df_train[base].values\n",
    "X_train"
   ]
  },
  {
   "cell_type": "code",
   "execution_count": 24,
   "id": "b43a0b95",
   "metadata": {},
   "outputs": [],
   "source": [
    "from sklearn.linear_model import LinearRegression"
   ]
  },
  {
   "cell_type": "code",
   "execution_count": 25,
   "id": "fc922419",
   "metadata": {},
   "outputs": [
    {
     "data": {
      "text/plain": [
       "LinearRegression()"
      ]
     },
     "execution_count": 25,
     "metadata": {},
     "output_type": "execute_result"
    }
   ],
   "source": [
    "# training the model\n",
    "\n",
    "model = LinearRegression()\n",
    "model.fit(X_train, y_train)"
   ]
  },
  {
   "cell_type": "code",
   "execution_count": 26,
   "id": "9ee23320",
   "metadata": {},
   "outputs": [
    {
     "name": "stdout",
     "output_type": "stream",
     "text": [
      "Prediction values: [1.25232273 0.94932549 0.80523841 1.13259295 1.40681227 1.28142994\n",
      " 1.22724064 0.87523804 1.04492826 1.08189783]\n"
     ]
    }
   ],
   "source": [
    "# getting the predictions\n",
    "\n",
    "y_pred_train = model.predict(X_train)\n",
    "print('Prediction values:', y_pred_train[:10])"
   ]
  },
  {
   "cell_type": "code",
   "execution_count": 27,
   "id": "34ce45e8",
   "metadata": {},
   "outputs": [
    {
     "data": {
      "text/plain": [
       "<AxesSubplot:ylabel='Count'>"
      ]
     },
     "execution_count": 27,
     "metadata": {},
     "output_type": "execute_result"
    },
    {
     "data": {
      "image/png": "[encoded data removed]",
      "text/plain": [
       "<Figure size 640x480 with 1 Axes>"
      ]
     },
     "metadata": {},
     "output_type": "display_data"
    }
   ],
   "source": [
    "# plotting the predictions to see if they're similar to the target variable medhousevalue i want to predict \n",
    "\n",
    "sns.histplot(y_pred_train, color='red', alpha=0.5)\n",
    "sns.histplot(y_train, color='blue', alpha=0.5)"
   ]
  },
  {
   "cell_type": "code",
   "execution_count": 29,
   "id": "6e97a425",
   "metadata": {
    "scrolled": true
   },
   "outputs": [
    {
     "name": "stdout",
     "output_type": "stream",
     "text": [
      "Training RMSE: 0.24667046537863047\n"
     ]
    }
   ],
   "source": [
    "# calculating the RMSE to evaluate\n",
    "\n",
    "from sklearn.metrics import mean_squared_error\n",
    "rmse_train = np.sqrt(mean_squared_error(y_train, y_pred_train))\n",
    "print(f\"Training RMSE: {rmse_train}\")"
   ]
  },
  {
   "cell_type": "code",
   "execution_count": 30,
   "id": "7ae8c59c",
   "metadata": {},
   "outputs": [
    {
     "data": {
      "text/html": [
       "<div>\n",
       "<style scoped>\n",
       "    .dataframe tbody tr th:only-of-type {\n",
       "        vertical-align: middle;\n",
       "    }\n",
       "\n",
       "    .dataframe tbody tr th {\n",
       "        vertical-align: top;\n",
       "    }\n",
       "\n",
       "    .dataframe thead th {\n",
       "        text-align: right;\n",
       "    }\n",
       "</style>\n",
       "<table border=\"1\" class=\"dataframe\">\n",
       "  <thead>\n",
       "    <tr style=\"text-align: right;\">\n",
       "      <th></th>\n",
       "      <th>medinc</th>\n",
       "      <th>houseage</th>\n",
       "      <th>averooms</th>\n",
       "      <th>avebedrms</th>\n",
       "      <th>population</th>\n",
       "      <th>aveoccup</th>\n",
       "      <th>longitude</th>\n",
       "      <th>latitude</th>\n",
       "    </tr>\n",
       "  </thead>\n",
       "  <tbody>\n",
       "    <tr>\n",
       "      <th>0</th>\n",
       "      <td>6.4114</td>\n",
       "      <td>15.0</td>\n",
       "      <td>7.527559</td>\n",
       "      <td>1.049869</td>\n",
       "      <td>2529.0</td>\n",
       "      <td>3.318898</td>\n",
       "      <td>-117.65</td>\n",
       "      <td>33.60</td>\n",
       "    </tr>\n",
       "    <tr>\n",
       "      <th>1</th>\n",
       "      <td>4.1843</td>\n",
       "      <td>12.0</td>\n",
       "      <td>6.330084</td>\n",
       "      <td>1.041783</td>\n",
       "      <td>2033.0</td>\n",
       "      <td>2.831476</td>\n",
       "      <td>-120.91</td>\n",
       "      <td>38.62</td>\n",
       "    </tr>\n",
       "    <tr>\n",
       "      <th>2</th>\n",
       "      <td>1.7411</td>\n",
       "      <td>35.0</td>\n",
       "      <td>5.369159</td>\n",
       "      <td>1.294393</td>\n",
       "      <td>909.0</td>\n",
       "      <td>4.247664</td>\n",
       "      <td>-118.23</td>\n",
       "      <td>33.93</td>\n",
       "    </tr>\n",
       "    <tr>\n",
       "      <th>3</th>\n",
       "      <td>3.4412</td>\n",
       "      <td>39.0</td>\n",
       "      <td>4.173405</td>\n",
       "      <td>1.074573</td>\n",
       "      <td>2156.0</td>\n",
       "      <td>1.937107</td>\n",
       "      <td>-122.37</td>\n",
       "      <td>37.59</td>\n",
       "    </tr>\n",
       "    <tr>\n",
       "      <th>4</th>\n",
       "      <td>7.8195</td>\n",
       "      <td>16.0</td>\n",
       "      <td>8.602349</td>\n",
       "      <td>1.058725</td>\n",
       "      <td>2142.0</td>\n",
       "      <td>3.593960</td>\n",
       "      <td>-117.98</td>\n",
       "      <td>33.70</td>\n",
       "    </tr>\n",
       "    <tr>\n",
       "      <th>...</th>\n",
       "      <td>...</td>\n",
       "      <td>...</td>\n",
       "      <td>...</td>\n",
       "      <td>...</td>\n",
       "      <td>...</td>\n",
       "      <td>...</td>\n",
       "      <td>...</td>\n",
       "      <td>...</td>\n",
       "    </tr>\n",
       "    <tr>\n",
       "      <th>12379</th>\n",
       "      <td>2.6771</td>\n",
       "      <td>23.0</td>\n",
       "      <td>3.748454</td>\n",
       "      <td>1.076289</td>\n",
       "      <td>958.0</td>\n",
       "      <td>1.975258</td>\n",
       "      <td>-117.83</td>\n",
       "      <td>33.74</td>\n",
       "    </tr>\n",
       "    <tr>\n",
       "      <th>12380</th>\n",
       "      <td>2.5568</td>\n",
       "      <td>32.0</td>\n",
       "      <td>3.731935</td>\n",
       "      <td>1.090909</td>\n",
       "      <td>731.0</td>\n",
       "      <td>1.703963</td>\n",
       "      <td>-117.25</td>\n",
       "      <td>32.80</td>\n",
       "    </tr>\n",
       "    <tr>\n",
       "      <th>12381</th>\n",
       "      <td>6.2210</td>\n",
       "      <td>52.0</td>\n",
       "      <td>6.571429</td>\n",
       "      <td>0.966667</td>\n",
       "      <td>530.0</td>\n",
       "      <td>2.523810</td>\n",
       "      <td>-122.40</td>\n",
       "      <td>37.60</td>\n",
       "    </tr>\n",
       "    <tr>\n",
       "      <th>12382</th>\n",
       "      <td>4.6071</td>\n",
       "      <td>52.0</td>\n",
       "      <td>6.030189</td>\n",
       "      <td>1.075472</td>\n",
       "      <td>689.0</td>\n",
       "      <td>2.600000</td>\n",
       "      <td>-122.47</td>\n",
       "      <td>37.75</td>\n",
       "    </tr>\n",
       "    <tr>\n",
       "      <th>12383</th>\n",
       "      <td>4.6366</td>\n",
       "      <td>40.0</td>\n",
       "      <td>5.311765</td>\n",
       "      <td>1.021569</td>\n",
       "      <td>1156.0</td>\n",
       "      <td>2.266667</td>\n",
       "      <td>-122.25</td>\n",
       "      <td>37.49</td>\n",
       "    </tr>\n",
       "  </tbody>\n",
       "</table>\n",
       "<p>12384 rows × 8 columns</p>\n",
       "</div>"
      ],
      "text/plain": [
       "       medinc  houseage  averooms  avebedrms  population  aveoccup  longitude  \\\n",
       "0      6.4114      15.0  7.527559   1.049869      2529.0  3.318898    -117.65   \n",
       "1      4.1843      12.0  6.330084   1.041783      2033.0  2.831476    -120.91   \n",
       "2      1.7411      35.0  5.369159   1.294393       909.0  4.247664    -118.23   \n",
       "3      3.4412      39.0  4.173405   1.074573      2156.0  1.937107    -122.37   \n",
       "4      7.8195      16.0  8.602349   1.058725      2142.0  3.593960    -117.98   \n",
       "...       ...       ...       ...        ...         ...       ...        ...   \n",
       "12379  2.6771      23.0  3.748454   1.076289       958.0  1.975258    -117.83   \n",
       "12380  2.5568      32.0  3.731935   1.090909       731.0  1.703963    -117.25   \n",
       "12381  6.2210      52.0  6.571429   0.966667       530.0  2.523810    -122.40   \n",
       "12382  4.6071      52.0  6.030189   1.075472       689.0  2.600000    -122.47   \n",
       "12383  4.6366      40.0  5.311765   1.021569      1156.0  2.266667    -122.25   \n",
       "\n",
       "       latitude  \n",
       "0         33.60  \n",
       "1         38.62  \n",
       "2         33.93  \n",
       "3         37.59  \n",
       "4         33.70  \n",
       "...         ...  \n",
       "12379     33.74  \n",
       "12380     32.80  \n",
       "12381     37.60  \n",
       "12382     37.75  \n",
       "12383     37.49  \n",
       "\n",
       "[12384 rows x 8 columns]"
      ]
     },
     "execution_count": 30,
     "metadata": {},
     "output_type": "execute_result"
    }
   ],
   "source": [
    "# adding longitude and latitude variables into the X_train set\n",
    "\n",
    "base_all = base + ['longitude', 'latitude']\n",
    "df_train[base_all]"
   ]
  },
  {
   "cell_type": "code",
   "execution_count": 31,
   "id": "77ca229a",
   "metadata": {},
   "outputs": [],
   "source": [
    "# re training set with all features including longitude and latitude\n",
    "\n",
    "X_train_all = df_train[base_all].values"
   ]
  },
  {
   "cell_type": "code",
   "execution_count": 32,
   "id": "46885ed0",
   "metadata": {},
   "outputs": [
    {
     "data": {
      "text/plain": [
       "LinearRegression()"
      ]
     },
     "execution_count": 32,
     "metadata": {},
     "output_type": "execute_result"
    }
   ],
   "source": [
    "# re implementing linear regression model with all features\n",
    "\n",
    "model = LinearRegression()\n",
    "model.fit(X_train_all, y_train)"
   ]
  },
  {
   "cell_type": "code",
   "execution_count": 33,
   "id": "a78319a9",
   "metadata": {},
   "outputs": [],
   "source": [
    "# getting predictions on training set with all features\n",
    "\n",
    "y_pred_train_all = model.predict(X_train_all)"
   ]
  },
  {
   "cell_type": "code",
   "execution_count": 34,
   "id": "12570693",
   "metadata": {},
   "outputs": [
    {
     "name": "stdout",
     "output_type": "stream",
     "text": [
      "Training RMSE with all features: 0.21749466234925535\n"
     ]
    }
   ],
   "source": [
    "# calculating RMSE for the X_train_all set\n",
    "\n",
    "rmse_train_all = np.sqrt(mean_squared_error(y_train, y_pred_train_all))\n",
    "print(f\"Training RMSE with all features: {rmse_train_all}\")"
   ]
  },
  {
   "cell_type": "markdown",
   "id": "8d7739fd",
   "metadata": {},
   "source": [
    "#### the all features training set is an improvement to the initial Training RMSE: 0.24667046537863047"
   ]
  },
  {
   "cell_type": "code",
   "execution_count": 36,
   "id": "a7b138df",
   "metadata": {},
   "outputs": [
    {
     "data": {
      "image/png": "[encoded data removed]",
      "text/plain": [
       "<Figure size 640x480 with 1 Axes>"
      ]
     },
     "metadata": {},
     "output_type": "display_data"
    }
   ],
   "source": [
    "# plotting the predictions of X_train_all to visualise the change vs original values\n",
    "\n",
    "sns.histplot(y_pred_train_all, color='red', alpha=0.5, label='Predictions')\n",
    "sns.histplot(y_train, color='blue', alpha=0.5, label='Actual')\n",
    "\n",
    "# adding labels for clarity\n",
    "\n",
    "plt.xlabel('Log(MedHouseValue)')\n",
    "plt.ylabel('Count')\n",
    "plt.legend()\n",
    "plt.title('Comparison of Predicted and Actual Values')\n",
    "plt.show()"
   ]
  },
  {
   "cell_type": "markdown",
   "id": "348b1366",
   "metadata": {},
   "source": [
    "### Reviewing the histogram\n",
    "\n",
    "- After inlcuding geo information the RMSE improved and it looks also on the histogram that the predictions are overlapping the actual values, indicating that the model is doing a decent job of predicting the MedHouseValue.\n",
    "\n",
    "- There is still some discrepancy, particularly at the right tail (higher values around 2.0+) and the left tail (lower values around 0.0). This suggests that your model might struggle to predict extreme values accurately."
   ]
  },
  {
   "cell_type": "markdown",
   "id": "1b8db432",
   "metadata": {},
   "source": [
    "## Validating the model on X_val_all set"
   ]
  },
  {
   "cell_type": "code",
   "execution_count": 37,
   "id": "ecefa79b",
   "metadata": {},
   "outputs": [],
   "source": [
    "# adding all variablesto the set\n",
    "\n",
    "X_val_all = df_val[base_all].values"
   ]
  },
  {
   "cell_type": "code",
   "execution_count": 38,
   "id": "87cb6820",
   "metadata": {},
   "outputs": [],
   "source": [
    "# getting predictions from the validation set\n",
    "\n",
    "y_pred_val_all = model.predict(X_val_all)"
   ]
  },
  {
   "cell_type": "code",
   "execution_count": 39,
   "id": "a9755b74",
   "metadata": {},
   "outputs": [
    {
     "name": "stdout",
     "output_type": "stream",
     "text": [
      "Validation RMSE with all features: 0.21347423438268526\n"
     ]
    }
   ],
   "source": [
    "# calculating RMSE for the validation set to compare with training set\n",
    "\n",
    "rmse_val_all = np.sqrt(mean_squared_error(y_val, y_pred_val_all))\n",
    "print(f\"Validation RMSE with all features: {rmse_val_all}\")"
   ]
  },
  {
   "cell_type": "code",
   "execution_count": 40,
   "id": "590992ea",
   "metadata": {},
   "outputs": [
    {
     "data": {
      "image/png": "[encoded data removed]",
      "text/plain": [
       "<Figure size 640x480 with 1 Axes>"
      ]
     },
     "metadata": {},
     "output_type": "display_data"
    }
   ],
   "source": [
    "# plotting the predictions of validation set vs actual values to visualise fit\n",
    "\n",
    "sns.histplot(y_pred_val_all, color='red', alpha=0.5, label='Predictions')\n",
    "sns.histplot(y_val, color='blue', alpha=0.5, label='Actual')\n",
    "\n",
    "# Adding labels for clarity\n",
    "plt.xlabel('Log(MedHouseValue)')\n",
    "plt.ylabel('Count')\n",
    "plt.legend()\n",
    "plt.title('Comparison of Predicted and Actual Values (Validation Set)')\n",
    "plt.show()"
   ]
  },
  {
   "cell_type": "markdown",
   "id": "5c30f109",
   "metadata": {},
   "source": [
    "### Reviewing the histogram\n",
    "\n",
    "- Training RMSE with all features was 0.21749466234925535 and from the validation set 0.21347423438268526 which is very close to the training result. My model is generalising well to unseen data and not overfitting.\n",
    "\n",
    "- Next step: I will apply Regularisation to see if there will be any improvement to my model.\n"
   ]
  },
  {
   "cell_type": "markdown",
   "id": "5da99f74",
   "metadata": {},
   "source": [
    "## Regularisation\n",
    "\n",
    "a technique to control the weights so they don't grow too much. It prevents overfitting by adding a penalty to the model’s difference between the predicted values from your model and the actual values from the data, the loss function in order to keep model coefficients small and improve generalisation to new data."
   ]
  },
  {
   "cell_type": "markdown",
   "id": "07d2f3a6",
   "metadata": {},
   "source": [
    "### L1 Regularization (Lasso)\n",
    "\n",
    "adds a penalty equal to the absolute value of the coefficients, which can shrink some coefficients to zero, effectively performing feature selection."
   ]
  },
  {
   "cell_type": "code",
   "execution_count": 41,
   "id": "e487f567",
   "metadata": {},
   "outputs": [],
   "source": [
    "from sklearn.linear_model import Lasso"
   ]
  },
  {
   "cell_type": "code",
   "execution_count": 42,
   "id": "b7c78a68",
   "metadata": {},
   "outputs": [],
   "source": [
    "# re implementing the model adding regularisation parameter alpha\n",
    "\n",
    "lasso_model = Lasso(alpha=0.1)  # I can experiment later with different values for alpha"
   ]
  },
  {
   "cell_type": "code",
   "execution_count": 43,
   "id": "906fc7ed",
   "metadata": {},
   "outputs": [
    {
     "data": {
      "text/plain": [
       "Lasso(alpha=0.1)"
      ]
     },
     "execution_count": 43,
     "metadata": {},
     "output_type": "execute_result"
    }
   ],
   "source": [
    "# re training the model on the X_train_all\n",
    "\n",
    "lasso_model.fit(X_train_all, y_train)"
   ]
  },
  {
   "cell_type": "code",
   "execution_count": 44,
   "id": "9014159c",
   "metadata": {},
   "outputs": [],
   "source": [
    "# making predictions by re training the validation model\n",
    "\n",
    "y_pred_val_lasso = lasso_model.predict(X_val_all)"
   ]
  },
  {
   "cell_type": "code",
   "execution_count": 45,
   "id": "821a8428",
   "metadata": {},
   "outputs": [
    {
     "name": "stdout",
     "output_type": "stream",
     "text": [
      "Validation RMSE with Lasso Regularization: 0.25817426803775095\n"
     ]
    }
   ],
   "source": [
    "# calculating the RMSE for the validation set\n",
    "\n",
    "rmse_val_lasso = np.sqrt(mean_squared_error(y_val, y_pred_val_lasso))\n",
    "print(f\"Validation RMSE with Lasso Regularization: {rmse_val_lasso}\")"
   ]
  },
  {
   "cell_type": "markdown",
   "id": "e09959a6",
   "metadata": {},
   "source": [
    "### RMSE review\n",
    "\n",
    "- the validation RMSE increased from 0.213 (without regularization) to 0.258 (with alpha=0.1), it suggests that the level of regularisation may be too strong, causing your model to underfit the data.\n",
    "- next step i will tune the model by finding an optimal alpha value."
   ]
  },
  {
   "cell_type": "code",
   "execution_count": 48,
   "id": "41bc3ae5",
   "metadata": {},
   "outputs": [
    {
     "name": "stdout",
     "output_type": "stream",
     "text": [
      "Lasso alpha=1e-05, Validation RMSE: 0.2134733651804814\n",
      "Lasso alpha=0.0001, Validation RMSE: 0.21346674489554904\n",
      "Lasso alpha=0.001, Validation RMSE: 0.21351948331142415\n",
      "Lasso alpha=0.01, Validation RMSE: 0.21783036927351532\n",
      "Lasso alpha=0.1, Validation RMSE: 0.25817426803775095\n",
      "Lasso alpha=1, Validation RMSE: 0.3544309290974806\n"
     ]
    }
   ],
   "source": [
    "# using the validation set to find the most suitable alpha value\n",
    "\n",
    "for alpha in [0.00001, 0.0001, 0.001, 0.01, 0.1, 1]:\n",
    "    lasso_model = Lasso(alpha=alpha) # defining the Lasso model for each alpha\n",
    "    lasso_model.fit(X_train_all, y_train) # train the model on the training set\n",
    "    y_pred_val_lasso = lasso_model.predict(X_val_all) # making predictions on the validation set\n",
    "    rmse_val_lasso = np.sqrt(mean_squared_error(y_val, y_pred_val_lasso)) # calculating the RMSE for the val set\n",
    "    print(f\"Lasso alpha={alpha}, Validation RMSE: {rmse_val_lasso}\")"
   ]
  },
  {
   "cell_type": "markdown",
   "id": "d6a5171a",
   "metadata": {},
   "source": [
    "### Evaluating results\n",
    "\n",
    "- The Validation RMSE (0.21347 and 0.21346, respectively) is almost identical to the RMSE prior to regularisation.\n",
    "- As I increased the alpha, the RMSE starts to increase, indicating that the model is being regularised too much, leading to underfitting.\n",
    "- Since there was not significant impact, L1 regularisation is not adding any value to the model therefore i will try L2 Ridge regularisation."
   ]
  },
  {
   "cell_type": "markdown",
   "id": "824e5739",
   "metadata": {},
   "source": [
    "### L2 Regularization (Ridge)\n",
    "\n",
    "adds a penalty equal to the square of the coefficients, shrinking them towards zero without making them exactly zero, reducing their impact but keeping all features."
   ]
  },
  {
   "cell_type": "code",
   "execution_count": 51,
   "id": "eba54edd",
   "metadata": {},
   "outputs": [
    {
     "name": "stdout",
     "output_type": "stream",
     "text": [
      "Ridge alpha=0.01, Validation RMSE: 0.21347421806750738\n",
      "Ridge alpha=0.1, Validation RMSE: 0.2134740716082984\n",
      "Ridge alpha=1, Validation RMSE: 0.21347264416471376\n",
      "Ridge alpha=10, Validation RMSE: 0.21346188120170168\n",
      "Ridge alpha=50, Validation RMSE: 0.21347335784298574\n",
      "Ridge alpha=100, Validation RMSE: 0.21356992027336014\n"
     ]
    }
   ],
   "source": [
    "# using the Ridge model to check if there will be any improvement on my model\n",
    "\n",
    "from sklearn.linear_model import Ridge\n",
    "\n",
    "# tuning the alpha parameter for L2\n",
    "\n",
    "for alpha in [0.01, 0.1, 1, 10, 50, 100]:\n",
    "    ridge_model = Ridge(alpha=alpha)  # defining the Ridge model with L2 regularisation\n",
    "    ridge_model.fit(X_train_all, y_train)  # training the model\n",
    "    y_pred_val_ridge = ridge_model.predict(X_val_all)  # making predictions on the validation set\n",
    "    rmse_val_ridge = np.sqrt(mean_squared_error(y_val, y_pred_val_ridge))  # calculating RMSE\n",
    "    print(f\"Ridge alpha={alpha}, Validation RMSE: {rmse_val_ridge}\")"
   ]
  },
  {
   "cell_type": "markdown",
   "id": "d2c300c3",
   "metadata": {},
   "source": [
    "### Evaluating results\n",
    "\n",
    "- Alpha = 10: Shows a slight decrease in RMSE (0.213461 from 0.2134742), indicating that moderate regularization helps the model generalize slightly better. However the improvement is minimal."
   ]
  },
  {
   "cell_type": "code",
   "execution_count": 54,
   "id": "04abf041",
   "metadata": {},
   "outputs": [
    {
     "name": "stdout",
     "output_type": "stream",
     "text": [
      "Ridge alpha=10, Validation RMSE: 0.21346188120170168\n",
      "Ridge alpha=12, Validation RMSE: 0.21346029992962\n",
      "Ridge alpha=15, Validation RMSE: 0.21345843835927858\n",
      "Ridge alpha=20, Validation RMSE: 0.21345662298487628\n",
      "Ridge alpha=30, Validation RMSE: 0.21345736544819582\n"
     ]
    }
   ],
   "source": [
    "# fine tuning around value 10 to see if there is any improvement\n",
    "\n",
    "for alpha in [10, 12, 15, 20, 30]:\n",
    "    ridge_model = Ridge(alpha=alpha)\n",
    "    ridge_model.fit(X_train_all, y_train)\n",
    "    y_pred_val_ridge = ridge_model.predict(X_val_all)\n",
    "    rmse_val_ridge = np.sqrt(mean_squared_error(y_val, y_pred_val_ridge))\n",
    "    print(f\"Ridge alpha={alpha}, Validation RMSE: {rmse_val_ridge}\")"
   ]
  },
  {
   "cell_type": "markdown",
   "id": "1ca0d870",
   "metadata": {},
   "source": [
    "### Evaluating results\n",
    "\n",
    "- Again small decrease in RMSE from increasing alpha further suggests that L2 regularisation helps slightly with generalisation, but the effect is very minimal.\n",
    "- Best alpha value = 20"
   ]
  },
  {
   "cell_type": "markdown",
   "id": "f5b51370",
   "metadata": {},
   "source": [
    "## Training final model (train and val sets combined)\n",
    "\n",
    "Before applying the model to the test set, I will combine both the training and validation sets to train the final model. This will allow the model to learn from as much data as possible before I can evaluate on the test set."
   ]
  },
  {
   "cell_type": "code",
   "execution_count": 57,
   "id": "5f4cf582",
   "metadata": {},
   "outputs": [],
   "source": [
    "# combining training and validation data\n",
    "\n",
    "df_full_train = pd.concat([df_train, df_val])"
   ]
  },
  {
   "cell_type": "code",
   "execution_count": 58,
   "id": "199833fb",
   "metadata": {},
   "outputs": [],
   "source": [
    "# resetting index\n",
    "\n",
    "df_full_train = df_full_train.reset_index(drop=True)"
   ]
  },
  {
   "cell_type": "code",
   "execution_count": 59,
   "id": "986f3351",
   "metadata": {},
   "outputs": [
    {
     "data": {
      "text/html": [
       "<div>\n",
       "<style scoped>\n",
       "    .dataframe tbody tr th:only-of-type {\n",
       "        vertical-align: middle;\n",
       "    }\n",
       "\n",
       "    .dataframe tbody tr th {\n",
       "        vertical-align: top;\n",
       "    }\n",
       "\n",
       "    .dataframe thead th {\n",
       "        text-align: right;\n",
       "    }\n",
       "</style>\n",
       "<table border=\"1\" class=\"dataframe\">\n",
       "  <thead>\n",
       "    <tr style=\"text-align: right;\">\n",
       "      <th></th>\n",
       "      <th>medinc</th>\n",
       "      <th>houseage</th>\n",
       "      <th>averooms</th>\n",
       "      <th>avebedrms</th>\n",
       "      <th>population</th>\n",
       "      <th>aveoccup</th>\n",
       "      <th>latitude</th>\n",
       "      <th>longitude</th>\n",
       "    </tr>\n",
       "  </thead>\n",
       "  <tbody>\n",
       "    <tr>\n",
       "      <th>0</th>\n",
       "      <td>6.4114</td>\n",
       "      <td>15.0</td>\n",
       "      <td>7.527559</td>\n",
       "      <td>1.049869</td>\n",
       "      <td>2529.0</td>\n",
       "      <td>3.318898</td>\n",
       "      <td>33.60</td>\n",
       "      <td>-117.65</td>\n",
       "    </tr>\n",
       "    <tr>\n",
       "      <th>1</th>\n",
       "      <td>4.1843</td>\n",
       "      <td>12.0</td>\n",
       "      <td>6.330084</td>\n",
       "      <td>1.041783</td>\n",
       "      <td>2033.0</td>\n",
       "      <td>2.831476</td>\n",
       "      <td>38.62</td>\n",
       "      <td>-120.91</td>\n",
       "    </tr>\n",
       "    <tr>\n",
       "      <th>2</th>\n",
       "      <td>1.7411</td>\n",
       "      <td>35.0</td>\n",
       "      <td>5.369159</td>\n",
       "      <td>1.294393</td>\n",
       "      <td>909.0</td>\n",
       "      <td>4.247664</td>\n",
       "      <td>33.93</td>\n",
       "      <td>-118.23</td>\n",
       "    </tr>\n",
       "    <tr>\n",
       "      <th>3</th>\n",
       "      <td>3.4412</td>\n",
       "      <td>39.0</td>\n",
       "      <td>4.173405</td>\n",
       "      <td>1.074573</td>\n",
       "      <td>2156.0</td>\n",
       "      <td>1.937107</td>\n",
       "      <td>37.59</td>\n",
       "      <td>-122.37</td>\n",
       "    </tr>\n",
       "    <tr>\n",
       "      <th>4</th>\n",
       "      <td>7.8195</td>\n",
       "      <td>16.0</td>\n",
       "      <td>8.602349</td>\n",
       "      <td>1.058725</td>\n",
       "      <td>2142.0</td>\n",
       "      <td>3.593960</td>\n",
       "      <td>33.70</td>\n",
       "      <td>-117.98</td>\n",
       "    </tr>\n",
       "    <tr>\n",
       "      <th>...</th>\n",
       "      <td>...</td>\n",
       "      <td>...</td>\n",
       "      <td>...</td>\n",
       "      <td>...</td>\n",
       "      <td>...</td>\n",
       "      <td>...</td>\n",
       "      <td>...</td>\n",
       "      <td>...</td>\n",
       "    </tr>\n",
       "    <tr>\n",
       "      <th>16507</th>\n",
       "      <td>3.0598</td>\n",
       "      <td>13.0</td>\n",
       "      <td>4.310056</td>\n",
       "      <td>1.069832</td>\n",
       "      <td>776.0</td>\n",
       "      <td>2.167598</td>\n",
       "      <td>34.04</td>\n",
       "      <td>-117.67</td>\n",
       "    </tr>\n",
       "    <tr>\n",
       "      <th>16508</th>\n",
       "      <td>6.8089</td>\n",
       "      <td>5.0</td>\n",
       "      <td>7.191667</td>\n",
       "      <td>0.975000</td>\n",
       "      <td>1109.0</td>\n",
       "      <td>3.080556</td>\n",
       "      <td>33.88</td>\n",
       "      <td>-117.44</td>\n",
       "    </tr>\n",
       "    <tr>\n",
       "      <th>16509</th>\n",
       "      <td>4.6417</td>\n",
       "      <td>17.0</td>\n",
       "      <td>6.829201</td>\n",
       "      <td>1.074380</td>\n",
       "      <td>1219.0</td>\n",
       "      <td>3.358127</td>\n",
       "      <td>34.69</td>\n",
       "      <td>-118.12</td>\n",
       "    </tr>\n",
       "    <tr>\n",
       "      <th>16510</th>\n",
       "      <td>1.5281</td>\n",
       "      <td>29.0</td>\n",
       "      <td>5.095890</td>\n",
       "      <td>1.095890</td>\n",
       "      <td>1137.0</td>\n",
       "      <td>3.115068</td>\n",
       "      <td>39.29</td>\n",
       "      <td>-121.68</td>\n",
       "    </tr>\n",
       "    <tr>\n",
       "      <th>16511</th>\n",
       "      <td>5.0824</td>\n",
       "      <td>23.0</td>\n",
       "      <td>5.508949</td>\n",
       "      <td>1.060403</td>\n",
       "      <td>2530.0</td>\n",
       "      <td>2.829978</td>\n",
       "      <td>37.52</td>\n",
       "      <td>-121.97</td>\n",
       "    </tr>\n",
       "  </tbody>\n",
       "</table>\n",
       "<p>16512 rows × 8 columns</p>\n",
       "</div>"
      ],
      "text/plain": [
       "       medinc  houseage  averooms  avebedrms  population  aveoccup  latitude  \\\n",
       "0      6.4114      15.0  7.527559   1.049869      2529.0  3.318898     33.60   \n",
       "1      4.1843      12.0  6.330084   1.041783      2033.0  2.831476     38.62   \n",
       "2      1.7411      35.0  5.369159   1.294393       909.0  4.247664     33.93   \n",
       "3      3.4412      39.0  4.173405   1.074573      2156.0  1.937107     37.59   \n",
       "4      7.8195      16.0  8.602349   1.058725      2142.0  3.593960     33.70   \n",
       "...       ...       ...       ...        ...         ...       ...       ...   \n",
       "16507  3.0598      13.0  4.310056   1.069832       776.0  2.167598     34.04   \n",
       "16508  6.8089       5.0  7.191667   0.975000      1109.0  3.080556     33.88   \n",
       "16509  4.6417      17.0  6.829201   1.074380      1219.0  3.358127     34.69   \n",
       "16510  1.5281      29.0  5.095890   1.095890      1137.0  3.115068     39.29   \n",
       "16511  5.0824      23.0  5.508949   1.060403      2530.0  2.829978     37.52   \n",
       "\n",
       "       longitude  \n",
       "0        -117.65  \n",
       "1        -120.91  \n",
       "2        -118.23  \n",
       "3        -122.37  \n",
       "4        -117.98  \n",
       "...          ...  \n",
       "16507    -117.67  \n",
       "16508    -117.44  \n",
       "16509    -118.12  \n",
       "16510    -121.68  \n",
       "16511    -121.97  \n",
       "\n",
       "[16512 rows x 8 columns]"
      ]
     },
     "execution_count": 59,
     "metadata": {},
     "output_type": "execute_result"
    }
   ],
   "source": [
    "# checking outcome\n",
    "\n",
    "df_full_train"
   ]
  },
  {
   "cell_type": "code",
   "execution_count": 64,
   "id": "e49294d7",
   "metadata": {},
   "outputs": [
    {
     "data": {
      "text/plain": [
       "array([[   6.4114    ,   15.        ,    7.52755906, ...,    3.31889764,\n",
       "        -117.65      ,   33.6       ],\n",
       "       [   4.1843    ,   12.        ,    6.33008357, ...,    2.83147632,\n",
       "        -120.91      ,   38.62      ],\n",
       "       [   1.7411    ,   35.        ,    5.36915888, ...,    4.24766355,\n",
       "        -118.23      ,   33.93      ],\n",
       "       ...,\n",
       "       [   4.6417    ,   17.        ,    6.8292011 , ...,    3.35812672,\n",
       "        -118.12      ,   34.69      ],\n",
       "       [   1.5281    ,   29.        ,    5.09589041, ...,    3.11506849,\n",
       "        -121.68      ,   39.29      ],\n",
       "       [   5.0824    ,   23.        ,    5.50894855, ...,    2.82997763,\n",
       "        -121.97      ,   37.52      ]])"
      ]
     },
     "execution_count": 64,
     "metadata": {},
     "output_type": "execute_result"
    }
   ],
   "source": [
    "# using `base_all` to select the feature columns for the combined dataset\n",
    "\n",
    "X_full_train = df_full_train[base_all].values\n",
    "X_full_train"
   ]
  },
  {
   "cell_type": "code",
   "execution_count": 63,
   "id": "d67be35a",
   "metadata": {},
   "outputs": [
    {
     "data": {
      "text/plain": [
       "array([1.33157415, 1.12363005, 0.67650954, ..., 0.8140365 , 0.47995396,\n",
       "       1.19664603])"
      ]
     },
     "execution_count": 63,
     "metadata": {},
     "output_type": "execute_result"
    }
   ],
   "source": [
    "# combining target values for y\n",
    "\n",
    "y_full_train = np.concatenate([y_train, y_val])\n",
    "y_full_train"
   ]
  },
  {
   "cell_type": "code",
   "execution_count": 65,
   "id": "5d548912",
   "metadata": {},
   "outputs": [
    {
     "data": {
      "text/plain": [
       "Ridge(alpha=20)"
      ]
     },
     "execution_count": 65,
     "metadata": {},
     "output_type": "execute_result"
    }
   ],
   "source": [
    "# training the model\n",
    "\n",
    "final_ridge_model = Ridge(alpha=20)\n",
    "final_ridge_model.fit(X_full_train, y_full_train)"
   ]
  },
  {
   "cell_type": "code",
   "execution_count": 67,
   "id": "8b216d44",
   "metadata": {},
   "outputs": [
    {
     "data": {
      "text/plain": [
       "array([1.29220455, 0.75509567, 0.89935817, ..., 0.99294426, 0.51881726,\n",
       "       1.28285386])"
      ]
     },
     "execution_count": 67,
     "metadata": {},
     "output_type": "execute_result"
    }
   ],
   "source": [
    "# making predictions on the combined training set\n",
    "\n",
    "y_pred_full_train = final_ridge_model.predict(X_full_train)\n",
    "y_pred_full_train"
   ]
  },
  {
   "cell_type": "code",
   "execution_count": 68,
   "id": "051424cd",
   "metadata": {},
   "outputs": [
    {
     "name": "stdout",
     "output_type": "stream",
     "text": [
      "Training RMSE with Ridge Regularization (alpha=20): 0.21647988391810136\n"
     ]
    }
   ],
   "source": [
    "# calculating RMSE for the combined training set\n",
    "\n",
    "rmse_full_train = np.sqrt(mean_squared_error(y_full_train, y_pred_full_train))\n",
    "print(f\"Training RMSE with Ridge Regularization (alpha=20): {rmse_full_train}\")"
   ]
  },
  {
   "cell_type": "markdown",
   "id": "2b21fa75",
   "metadata": {},
   "source": [
    "### Evaluating results\n",
    "\n",
    "- The increase in training RMSE after combining df_train and df_val means that the model is finding it slightly harder to fit the combined set perfectly. This is somewhat expected because adding more data (especially validation data) increases the variability and complexity the model needs to learn.\n",
    "- However, the difference between 0.2134 and 0.2165 is very small, so the underfitting is minimal and not a concern as long as it translates to better performance on the test set.\n",
    "- Next step: evaluate on the test set."
   ]
  },
  {
   "cell_type": "markdown",
   "id": "fdfe86cd",
   "metadata": {},
   "source": [
    "## Using the model to predict prices"
   ]
  },
  {
   "cell_type": "code",
   "execution_count": 69,
   "id": "e2317dfb",
   "metadata": {},
   "outputs": [],
   "source": [
    "# getting a random sample of rows from the test set to predict prices\n",
    "\n",
    "num_samples = 10  # just an arbitrary number\n",
    "df_test_sample = df_test.sample(n=num_samples, random_state=1)  # random_state for reproducibility"
   ]
  },
  {
   "cell_type": "code",
   "execution_count": 70,
   "id": "208c1c32",
   "metadata": {},
   "outputs": [],
   "source": [
    "# preparing variables for the sample\n",
    "\n",
    "X_test_sample = df_test_sample[base_all].values"
   ]
  },
  {
   "cell_type": "code",
   "execution_count": 72,
   "id": "ec6a967a",
   "metadata": {},
   "outputs": [
    {
     "data": {
      "text/plain": [
       "array([0.92145933, 1.10776121, 0.98990173, 1.08501201, 1.11306897,\n",
       "       1.15587923, 0.92740998, 1.44960335, 1.34643066, 0.93531898])"
      ]
     },
     "execution_count": 72,
     "metadata": {},
     "output_type": "execute_result"
    }
   ],
   "source": [
    "# predicting prices for the sample\n",
    "\n",
    "y_pred_sample = final_ridge_model.predict(X_test_sample)\n",
    "y_pred_sample"
   ]
  },
  {
   "cell_type": "code",
   "execution_count": 75,
   "id": "45d53601",
   "metadata": {},
   "outputs": [],
   "source": [
    "# reversing the logarithmic transformation for predicted and actual prices\n",
    "\n",
    "y_pred_sample = np.expm1(y_pred_sample) \n",
    "y_actual_sample = np.expm1(y_test[:num_samples])"
   ]
  },
  {
   "cell_type": "code",
   "execution_count": 76,
   "id": "b8d2fb41",
   "metadata": {},
   "outputs": [
    {
     "name": "stdout",
     "output_type": "stream",
     "text": [
      "   Actual Price  Predicted Price\n",
      "0       0.55800         1.512955\n",
      "1       1.40800         2.027573\n",
      "2       0.94400         1.690970\n",
      "3       5.00001         1.959475\n",
      "4       1.90600         2.043685\n",
      "5       0.81300         2.176815\n",
      "6       2.35200         1.527953\n",
      "7       2.33800         3.261424\n",
      "8       2.22800         2.843682\n",
      "9       3.93200         1.548026\n"
     ]
    }
   ],
   "source": [
    "# Compare predicted and actual prices\n",
    "comparison = pd.DataFrame({\n",
    "    'Actual Price': y_actual_sample,\n",
    "    'Predicted Price': y_pred_sample\n",
    "})\n",
    "\n",
    "print(comparison)"
   ]
  },
  {
   "cell_type": "markdown",
   "id": "70bae1c1",
   "metadata": {},
   "source": [
    "### Evaluating results\n",
    "\n",
    "- The model tends to underestimate very high house prices (like Actual = 5.00001 vs Predicted = 1.959475), which is a form of systematic underfitting for extreme values.\n",
    "- However, for lower to moderate price values, the model often overestimates (e.g., Actual = 0.55800 vs. Predicted = 1.512955). This means that for most of the data, the predicted values are generally higher than the actual values, except at the extreme high end.\n",
    "- Next step: understanding the importance and direction of each variable in predicting the target variable (medhousevalue)."
   ]
  },
  {
   "cell_type": "code",
   "execution_count": 77,
   "id": "e1446fe9",
   "metadata": {},
   "outputs": [
    {
     "data": {
      "image/png": "[encoded data removed]",
      "text/plain": [
       "<Figure size 800x600 with 1 Axes>"
      ]
     },
     "metadata": {},
     "output_type": "display_data"
    }
   ],
   "source": [
    "import matplotlib.pyplot as plt\n",
    "\n",
    "plt.figure(figsize=(8, 6))\n",
    "plt.scatter(y_actual_sample, y_pred_sample, alpha=0.7)\n",
    "plt.xlabel('Actual Price')\n",
    "plt.ylabel('Predicted Price')\n",
    "plt.title('Actual vs Predicted Prices')\n",
    "plt.plot([y_actual_sample.min(), y_actual_sample.max()], [y_actual_sample.min(), y_actual_sample.max()], color='red')  # 45-degree line\n",
    "plt.show()"
   ]
  },
  {
   "cell_type": "code",
   "execution_count": 79,
   "id": "e3020ee0",
   "metadata": {},
   "outputs": [
    {
     "name": "stdout",
     "output_type": "stream",
     "text": [
      "avebedrms     0.230195\n",
      "medinc        0.127994\n",
      "houseage      0.002153\n",
      "population    0.000004\n",
      "aveoccup     -0.001016\n",
      "averooms     -0.032524\n",
      "latitude     -0.163896\n",
      "longitude    -0.166071\n",
      "dtype: float64\n"
     ]
    }
   ],
   "source": [
    "# checking Ridge coefficients in order to understand the importance and direction of each variable to predict the house prices\n",
    "\n",
    "ridge_coefficients = pd.Series(final_ridge_model.coef_, index=base_all)\n",
    "print(ridge_coefficients.sort_values(ascending=False))"
   ]
  },
  {
   "cell_type": "markdown",
   "id": "95dc0e56",
   "metadata": {},
   "source": [
    "### Review\n",
    "\n",
    "- avebedrms (0.230195): The average number of bedrooms has the largest positive influence on house prices. A unit increase in avebedrms is associated with a significant increase in the predicted log house price.\n",
    "- medinc (0.127994): Median income also positively affects house prices, indicating that wealthier areas generally have higher house prices.\n",
    "- latitude (-0.163896) and longitude (-0.166071): Both coefficients are negative, suggesting that certain geographic regions have lower house prices."
   ]
  },
  {
   "cell_type": "markdown",
   "id": "382b36a0",
   "metadata": {},
   "source": [
    "## Standarising the variables\n",
    "\n",
    "since not all feature contribute the same to the model by standarising them can help regularization to be more effective"
   ]
  },
  {
   "cell_type": "code",
   "execution_count": 80,
   "id": "d2b06710",
   "metadata": {},
   "outputs": [],
   "source": [
    "from sklearn.preprocessing import StandardScaler\n",
    "\n",
    "# standardising the variables\n",
    "scaler = StandardScaler()\n",
    "X_train_all_scaled = scaler.fit_transform(X_train_all)\n",
    "X_val_all_scaled = scaler.transform(X_val_all)\n"
   ]
  },
  {
   "cell_type": "code",
   "execution_count": 81,
   "id": "0f7cf708",
   "metadata": {},
   "outputs": [
    {
     "data": {
      "text/plain": [
       "Ridge(alpha=20)"
      ]
     },
     "execution_count": 81,
     "metadata": {},
     "output_type": "execute_result"
    }
   ],
   "source": [
    "# re training the model on standardised data\n",
    "\n",
    "ridge_model = Ridge(alpha=20)  # using the best alpha from previous tuning\n",
    "ridge_model.fit(X_train_all_scaled, y_train)"
   ]
  },
  {
   "cell_type": "code",
   "execution_count": 82,
   "id": "30955036",
   "metadata": {},
   "outputs": [],
   "source": [
    "# making predictions on the validation set using the standardised data\n",
    "\n",
    "y_pred_val_ridge_scaled = ridge_model.predict(X_val_all_scaled)"
   ]
  },
  {
   "cell_type": "code",
   "execution_count": 83,
   "id": "88d77cdf",
   "metadata": {},
   "outputs": [
    {
     "name": "stdout",
     "output_type": "stream",
     "text": [
      "Validation RMSE with Ridge Regularization on Scaled Data (alpha=20): 0.2134803156275707\n"
     ]
    }
   ],
   "source": [
    "# calculating RMSE for the standardised validation set\n",
    "\n",
    "rmse_val_ridge_scaled = np.sqrt(mean_squared_error(y_val, y_pred_val_ridge_scaled))\n",
    "print(f\"Validation RMSE with Ridge Regularization on Scaled Data (alpha=20): {rmse_val_ridge_scaled}\")"
   ]
  },
  {
   "cell_type": "code",
   "execution_count": 84,
   "id": "02e496c9",
   "metadata": {},
   "outputs": [
    {
     "name": "stdout",
     "output_type": "stream",
     "text": [
      "medinc        0.246287\n",
      "avebedrms     0.102394\n",
      "houseage      0.027386\n",
      "population    0.003876\n",
      "aveoccup     -0.012559\n",
      "averooms     -0.083539\n",
      "longitude    -0.327432\n",
      "latitude     -0.343337\n",
      "dtype: float64\n"
     ]
    }
   ],
   "source": [
    "# reviewing the coefficients of the ridge model on standardised data\n",
    "\n",
    "ridge_coefficients_scaled = pd.Series(ridge_model.coef_, index=base_all)\n",
    "print(ridge_coefficients_scaled.sort_values(ascending=False))"
   ]
  },
  {
   "cell_type": "markdown",
   "id": "d35a2bd1",
   "metadata": {},
   "source": [
    "### Reviewing\n",
    "\n",
    "- The validation RMSE after standardisation with Ridge regularisation is 0.2134803, which is very similar to the previous RMSE obtained before standardisation (0.2134566 with alpha=20).\n",
    "- This suggests that standardisation did not significantly improve or worsen the model’s performance on the validation set. Standardisation generally helps when features are on very different scales, but since the features in this case are not drastically different in scale (e.g., income, rooms, latitude, etc.), the effect is minimal.\n",
    "- \tmedinc (Median Income) has the highest positive coefficient, suggesting it is the most influential variable on predicting house prices.\n",
    "- avebedrms (Average Bedrooms per Unit) is the second most influential positive feature.\n",
    "- longitude and latitude still have the largest negative coefficients, indicating that geography is an important factor in predicting house prices but in a different manner compared to income and bedrooms. These geographic variables might be capturing regional price differences.\n",
    "- Other features like population, averooms (Average Rooms per Unit), and aveoccup have smaller magnitudes, indicating they play a less significant role."
   ]
  },
  {
   "cell_type": "markdown",
   "id": "d9142a28",
   "metadata": {},
   "source": [
    "## Evaluating on the test set and making new predictions"
   ]
  },
  {
   "cell_type": "code",
   "execution_count": 85,
   "id": "5204438c",
   "metadata": {},
   "outputs": [],
   "source": [
    "# standardising the combined training set (df_full_train)\n",
    "\n",
    "X_full_train_scaled = scaler.fit_transform(X_full_train)\n",
    "y_full_train = np.concatenate([y_train, y_val])"
   ]
  },
  {
   "cell_type": "code",
   "execution_count": 86,
   "id": "1418d62e",
   "metadata": {},
   "outputs": [
    {
     "data": {
      "text/plain": [
       "Ridge(alpha=20)"
      ]
     },
     "execution_count": 86,
     "metadata": {},
     "output_type": "execute_result"
    }
   ],
   "source": [
    "# re training the Ridge model on the combined training set\n",
    "\n",
    "final_ridge_model_scaled = Ridge(alpha=20)\n",
    "final_ridge_model_scaled.fit(X_full_train_scaled, y_full_train)"
   ]
  },
  {
   "cell_type": "code",
   "execution_count": 87,
   "id": "b227e1c2",
   "metadata": {},
   "outputs": [],
   "source": [
    "# standardising the test set\n",
    "\n",
    "X_test_all_scaled = scaler.transform(df_test[base_all].values)"
   ]
  },
  {
   "cell_type": "code",
   "execution_count": 88,
   "id": "b636f107",
   "metadata": {},
   "outputs": [],
   "source": [
    "# making predictions on the test set\n",
    "\n",
    "y_pred_test_scaled = final_ridge_model_scaled.predict(X_test_all_scaled)"
   ]
  },
  {
   "cell_type": "code",
   "execution_count": 89,
   "id": "dd9c4f8f",
   "metadata": {},
   "outputs": [
    {
     "name": "stdout",
     "output_type": "stream",
     "text": [
      "Test RMSE with Ridge Regularization on Scaled Data (alpha=20): 0.23052783097811047\n"
     ]
    }
   ],
   "source": [
    "# calculating RMSE for the test set\n",
    "\n",
    "rmse_test_scaled = np.sqrt(mean_squared_error(y_test, y_pred_test_scaled))\n",
    "print(f\"Test RMSE with Ridge Regularization on Scaled Data (alpha=20): {rmse_test_scaled}\")"
   ]
  },
  {
   "cell_type": "code",
   "execution_count": 90,
   "id": "58e94c29",
   "metadata": {},
   "outputs": [],
   "source": [
    "# randomly selecting some samples from the test set\n",
    "\n",
    "num_samples = 10 \n",
    "df_test_sample = df_test.sample(n=num_samples, random_state=1)  # random_state for reproducibility"
   ]
  },
  {
   "cell_type": "code",
   "execution_count": 91,
   "id": "de18d474",
   "metadata": {},
   "outputs": [],
   "source": [
    "# standardising the selected test samples\n",
    "\n",
    "X_test_sample_scaled = scaler.transform(df_test_sample[base_all].values)"
   ]
  },
  {
   "cell_type": "code",
   "execution_count": 92,
   "id": "e93cf219",
   "metadata": {},
   "outputs": [],
   "source": [
    "# predicting prices for the selected samples\n",
    "\n",
    "y_pred_sample_scaled = final_ridge_model_scaled.predict(X_test_sample_scaled)"
   ]
  },
  {
   "cell_type": "code",
   "execution_count": 93,
   "id": "d18cafa7",
   "metadata": {},
   "outputs": [],
   "source": [
    "# reversing the logarithmic transformation for predicted and actual prices\n",
    "\n",
    "y_pred_sample_actual = np.expm1(y_pred_sample_scaled)\n",
    "y_actual_sample = np.expm1(y_test[df_test_sample.index])"
   ]
  },
  {
   "cell_type": "code",
   "execution_count": 94,
   "id": "f05f0017",
   "metadata": {},
   "outputs": [
    {
     "name": "stdout",
     "output_type": "stream",
     "text": [
      "   Actual Price  Predicted Price\n",
      "0         1.228         1.514009\n",
      "1         2.932         2.022592\n",
      "2         1.846         1.691507\n",
      "3         1.980         1.959156\n",
      "4         2.259         2.029002\n",
      "5         3.184         2.172975\n",
      "6         1.792         1.534520\n",
      "7         4.050         3.252926\n",
      "8         2.675         2.828816\n",
      "9         1.064         1.541472\n"
     ]
    }
   ],
   "source": [
    "# comparing predicted and actual prices\n",
    "comparison = pd.DataFrame({\n",
    "    'Actual Price': y_actual_sample,\n",
    "    'Predicted Price': y_pred_sample_actual\n",
    "})\n",
    "\n",
    "print(comparison)"
   ]
  },
  {
   "cell_type": "code",
   "execution_count": 95,
   "id": "94530dc6",
   "metadata": {},
   "outputs": [
    {
     "data": {
      "image/png": "[encoded data removed]",
      "text/plain": [
       "<Figure size 800x600 with 1 Axes>"
      ]
     },
     "metadata": {},
     "output_type": "display_data"
    }
   ],
   "source": [
    "# visualise predictions vs actual prices\n",
    "\n",
    "plt.figure(figsize=(8, 6))\n",
    "plt.scatter(y_actual_sample, y_pred_sample_actual, alpha=0.7)\n",
    "plt.xlabel('Actual Price')\n",
    "plt.ylabel('Predicted Price')\n",
    "plt.title('Actual vs Predicted Prices')\n",
    "plt.plot([y_actual_sample.min(), y_actual_sample.max()], [y_actual_sample.min(), y_actual_sample.max()], color='red')  # 45-degree line\n",
    "plt.show()"
   ]
  },
  {
   "cell_type": "markdown",
   "id": "f1f30c6d",
   "metadata": {},
   "source": [
    "## Review\n",
    "\n",
    "- The test RMSE of 0.2305 is slightly higher than the validation RMSE but still within an acceptable range, meaning the model is consistent.\n",
    "- Standardising the variables seems to have helped stabilise the coefficients, allowing the model to be more balanced in how it considers each variable.\n",
    "- Next step: exploring the interactions between the two most positive coeficients medinc and avebedrms in order to check how these two variables together impact the target variable, price."
   ]
  }
 ],
 "metadata": {
  "kernelspec": {
   "display_name": "Python 3 (ipykernel)",
   "language": "python",
   "name": "python3"
  },
  "language_info": {
   "codemirror_mode": {
    "name": "ipython",
    "version": 3
   },
   "file_extension": ".py",
   "mimetype": "text/x-python",
   "name": "python",
   "nbconvert_exporter": "python",
   "pygments_lexer": "ipython3",
   "version": "3.9.13"
  }
 },
 "nbformat": 4,
 "nbformat_minor": 5
}
