{
 "cells": [
  {
   "cell_type": "markdown",
   "id": "35f7cbdb",
   "metadata": {},
   "source": [
    "# ML02 Regression / Homework\n",
    "\n",
    "The goal of this homework is to create a regression model for predicting the prices (column 'Final Price')"
   ]
  },
  {
   "cell_type": "code",
   "execution_count": 1,
   "id": "800f8e89",
   "metadata": {},
   "outputs": [],
   "source": [
    "import pandas as pd\n",
    "import numpy as np\n",
    "\n",
    "import seaborn as sns\n",
    "from matplotlib import pyplot as plt\n",
    "%matplotlib inline"
   ]
  },
  {
   "cell_type": "code",
   "execution_count": 2,
   "id": "605d970e",
   "metadata": {},
   "outputs": [
    {
     "name": "stdout",
     "output_type": "stream",
     "text": [
      "--2024-10-08 11:38:28--  https://raw.githubusercontent.com/alexeygrigorev/datasets/master/laptops.csv\n",
      "Resolving raw.githubusercontent.com (raw.githubusercontent.com)... 185.199.110.133, 185.199.111.133, 185.199.108.133, ...\n",
      "Connecting to raw.githubusercontent.com (raw.githubusercontent.com)|185.199.110.133|:443... connected.\n",
      "HTTP request sent, awaiting response... 200 OK\n",
      "Length: 298573 (292K) [text/plain]\n",
      "Saving to: 'laptops.csv.10'\n",
      "\n",
      "laptops.csv.10      100%[===================>] 291.58K   657KB/s    in 0.4s    \n",
      "\n",
      "2024-10-08 11:38:29 (657 KB/s) - 'laptops.csv.10' saved [298573/298573]\n",
      "\n"
     ]
    }
   ],
   "source": [
    "# importing dataset laptops.csv\n",
    "\n",
    "!wget https://raw.githubusercontent.com/alexeygrigorev/datasets/master/laptops.csv"
   ]
  },
  {
   "cell_type": "markdown",
   "id": "dc51edf1",
   "metadata": {},
   "source": [
    "# Preparing the dataset\n",
    "\n",
    "First, we'll normalize the names of the columns:\n",
    "\n",
    "Next, use only the following columns:\n",
    "\n",
    "'ram',\n",
    "'storage',\n",
    "'screen',\n",
    "'final_price'\n",
    "\n",
    "Look at the final_price variable. Does it have a long tail?"
   ]
  },
  {
   "cell_type": "code",
   "execution_count": 3,
   "id": "af602703",
   "metadata": {},
   "outputs": [],
   "source": [
    "# setting a df for the data\n",
    "\n",
    "df = pd.read_csv('laptops.csv')"
   ]
  },
  {
   "cell_type": "code",
   "execution_count": 4,
   "id": "8b795ff5",
   "metadata": {},
   "outputs": [
    {
     "data": {
      "text/html": [
       "<div>\n",
       "<style scoped>\n",
       "    .dataframe tbody tr th:only-of-type {\n",
       "        vertical-align: middle;\n",
       "    }\n",
       "\n",
       "    .dataframe tbody tr th {\n",
       "        vertical-align: top;\n",
       "    }\n",
       "\n",
       "    .dataframe thead th {\n",
       "        text-align: right;\n",
       "    }\n",
       "</style>\n",
       "<table border=\"1\" class=\"dataframe\">\n",
       "  <thead>\n",
       "    <tr style=\"text-align: right;\">\n",
       "      <th></th>\n",
       "      <th>Laptop</th>\n",
       "      <th>Status</th>\n",
       "      <th>Brand</th>\n",
       "      <th>Model</th>\n",
       "      <th>CPU</th>\n",
       "      <th>RAM</th>\n",
       "      <th>Storage</th>\n",
       "      <th>Storage type</th>\n",
       "      <th>GPU</th>\n",
       "      <th>Screen</th>\n",
       "      <th>Touch</th>\n",
       "      <th>Final Price</th>\n",
       "    </tr>\n",
       "  </thead>\n",
       "  <tbody>\n",
       "    <tr>\n",
       "      <th>0</th>\n",
       "      <td>ASUS ExpertBook B1 B1502CBA-EJ0436X Intel Core...</td>\n",
       "      <td>New</td>\n",
       "      <td>Asus</td>\n",
       "      <td>ExpertBook</td>\n",
       "      <td>Intel Core i5</td>\n",
       "      <td>8</td>\n",
       "      <td>512</td>\n",
       "      <td>SSD</td>\n",
       "      <td>NaN</td>\n",
       "      <td>15.6</td>\n",
       "      <td>No</td>\n",
       "      <td>1009.00</td>\n",
       "    </tr>\n",
       "    <tr>\n",
       "      <th>1</th>\n",
       "      <td>Alurin Go Start Intel Celeron N4020/8GB/256GB ...</td>\n",
       "      <td>New</td>\n",
       "      <td>Alurin</td>\n",
       "      <td>Go</td>\n",
       "      <td>Intel Celeron</td>\n",
       "      <td>8</td>\n",
       "      <td>256</td>\n",
       "      <td>SSD</td>\n",
       "      <td>NaN</td>\n",
       "      <td>15.6</td>\n",
       "      <td>No</td>\n",
       "      <td>299.00</td>\n",
       "    </tr>\n",
       "    <tr>\n",
       "      <th>2</th>\n",
       "      <td>ASUS ExpertBook B1 B1502CBA-EJ0424X Intel Core...</td>\n",
       "      <td>New</td>\n",
       "      <td>Asus</td>\n",
       "      <td>ExpertBook</td>\n",
       "      <td>Intel Core i3</td>\n",
       "      <td>8</td>\n",
       "      <td>256</td>\n",
       "      <td>SSD</td>\n",
       "      <td>NaN</td>\n",
       "      <td>15.6</td>\n",
       "      <td>No</td>\n",
       "      <td>789.00</td>\n",
       "    </tr>\n",
       "    <tr>\n",
       "      <th>3</th>\n",
       "      <td>MSI Katana GF66 12UC-082XES Intel Core i7-1270...</td>\n",
       "      <td>New</td>\n",
       "      <td>MSI</td>\n",
       "      <td>Katana</td>\n",
       "      <td>Intel Core i7</td>\n",
       "      <td>16</td>\n",
       "      <td>1000</td>\n",
       "      <td>SSD</td>\n",
       "      <td>RTX 3050</td>\n",
       "      <td>15.6</td>\n",
       "      <td>No</td>\n",
       "      <td>1199.00</td>\n",
       "    </tr>\n",
       "    <tr>\n",
       "      <th>4</th>\n",
       "      <td>HP 15S-FQ5085NS Intel Core i5-1235U/16GB/512GB...</td>\n",
       "      <td>New</td>\n",
       "      <td>HP</td>\n",
       "      <td>15S</td>\n",
       "      <td>Intel Core i5</td>\n",
       "      <td>16</td>\n",
       "      <td>512</td>\n",
       "      <td>SSD</td>\n",
       "      <td>NaN</td>\n",
       "      <td>15.6</td>\n",
       "      <td>No</td>\n",
       "      <td>669.01</td>\n",
       "    </tr>\n",
       "  </tbody>\n",
       "</table>\n",
       "</div>"
      ],
      "text/plain": [
       "                                              Laptop Status   Brand  \\\n",
       "0  ASUS ExpertBook B1 B1502CBA-EJ0436X Intel Core...    New    Asus   \n",
       "1  Alurin Go Start Intel Celeron N4020/8GB/256GB ...    New  Alurin   \n",
       "2  ASUS ExpertBook B1 B1502CBA-EJ0424X Intel Core...    New    Asus   \n",
       "3  MSI Katana GF66 12UC-082XES Intel Core i7-1270...    New     MSI   \n",
       "4  HP 15S-FQ5085NS Intel Core i5-1235U/16GB/512GB...    New      HP   \n",
       "\n",
       "        Model            CPU  RAM  Storage Storage type       GPU  Screen  \\\n",
       "0  ExpertBook  Intel Core i5    8      512          SSD       NaN    15.6   \n",
       "1          Go  Intel Celeron    8      256          SSD       NaN    15.6   \n",
       "2  ExpertBook  Intel Core i3    8      256          SSD       NaN    15.6   \n",
       "3      Katana  Intel Core i7   16     1000          SSD  RTX 3050    15.6   \n",
       "4         15S  Intel Core i5   16      512          SSD       NaN    15.6   \n",
       "\n",
       "  Touch  Final Price  \n",
       "0    No      1009.00  \n",
       "1    No       299.00  \n",
       "2    No       789.00  \n",
       "3    No      1199.00  \n",
       "4    No       669.01  "
      ]
     },
     "execution_count": 4,
     "metadata": {},
     "output_type": "execute_result"
    }
   ],
   "source": [
    "# checking data\n",
    "\n",
    "df.head()"
   ]
  },
  {
   "cell_type": "code",
   "execution_count": 5,
   "id": "07700727",
   "metadata": {},
   "outputs": [],
   "source": [
    "# normilising column names\n",
    "\n",
    "df.columns = df.columns.str.lower().str.replace(' ', '_')"
   ]
  },
  {
   "cell_type": "code",
   "execution_count": 6,
   "id": "2b47f605",
   "metadata": {},
   "outputs": [
    {
     "data": {
      "text/plain": [
       "Index(['laptop', 'status', 'brand', 'model', 'cpu', 'ram', 'storage',\n",
       "       'storage_type', 'gpu', 'screen', 'touch', 'final_price'],\n",
       "      dtype='object')"
      ]
     },
     "execution_count": 6,
     "metadata": {},
     "output_type": "execute_result"
    }
   ],
   "source": [
    "# checking outcome\n",
    "\n",
    "df.columns"
   ]
  },
  {
   "cell_type": "markdown",
   "id": "693912cd",
   "metadata": {},
   "source": [
    "# Question 1\n",
    "\n",
    "There's one column with missing values. What is it?\n",
    "\n",
    "- 'ram'\n",
    "- 'storage'\n",
    "- 'screen'\n",
    "- 'final_price'"
   ]
  },
  {
   "cell_type": "code",
   "execution_count": 7,
   "id": "abb63a16",
   "metadata": {},
   "outputs": [],
   "source": [
    "# selecting speific columns \n",
    "\n",
    "df_selected = df[['ram', 'storage', 'screen', 'final_price']]"
   ]
  },
  {
   "cell_type": "markdown",
   "id": "c4940c45",
   "metadata": {},
   "source": [
    "# Question 2\n",
    "\n",
    "What's the median (50% percentile) for variable 'ram'?\n",
    "\n",
    "- 8\n",
    "- 16\n",
    "- 24\n",
    "- 32"
   ]
  },
  {
   "cell_type": "code",
   "execution_count": 8,
   "id": "6eaac783",
   "metadata": {},
   "outputs": [
    {
     "data": {
      "text/html": [
       "<div>\n",
       "<style scoped>\n",
       "    .dataframe tbody tr th:only-of-type {\n",
       "        vertical-align: middle;\n",
       "    }\n",
       "\n",
       "    .dataframe tbody tr th {\n",
       "        vertical-align: top;\n",
       "    }\n",
       "\n",
       "    .dataframe thead th {\n",
       "        text-align: right;\n",
       "    }\n",
       "</style>\n",
       "<table border=\"1\" class=\"dataframe\">\n",
       "  <thead>\n",
       "    <tr style=\"text-align: right;\">\n",
       "      <th></th>\n",
       "      <th>ram</th>\n",
       "      <th>storage</th>\n",
       "      <th>screen</th>\n",
       "      <th>final_price</th>\n",
       "    </tr>\n",
       "  </thead>\n",
       "  <tbody>\n",
       "    <tr>\n",
       "      <th>count</th>\n",
       "      <td>2160.000000</td>\n",
       "      <td>2160.000000</td>\n",
       "      <td>2156.000000</td>\n",
       "      <td>2160.000000</td>\n",
       "    </tr>\n",
       "    <tr>\n",
       "      <th>mean</th>\n",
       "      <td>15.413889</td>\n",
       "      <td>596.294444</td>\n",
       "      <td>15.168112</td>\n",
       "      <td>1312.638509</td>\n",
       "    </tr>\n",
       "    <tr>\n",
       "      <th>std</th>\n",
       "      <td>9.867815</td>\n",
       "      <td>361.220506</td>\n",
       "      <td>1.203329</td>\n",
       "      <td>911.475417</td>\n",
       "    </tr>\n",
       "    <tr>\n",
       "      <th>min</th>\n",
       "      <td>4.000000</td>\n",
       "      <td>0.000000</td>\n",
       "      <td>10.100000</td>\n",
       "      <td>201.050000</td>\n",
       "    </tr>\n",
       "    <tr>\n",
       "      <th>25%</th>\n",
       "      <td>8.000000</td>\n",
       "      <td>256.000000</td>\n",
       "      <td>14.000000</td>\n",
       "      <td>661.082500</td>\n",
       "    </tr>\n",
       "    <tr>\n",
       "      <th>50%</th>\n",
       "      <td>16.000000</td>\n",
       "      <td>512.000000</td>\n",
       "      <td>15.600000</td>\n",
       "      <td>1031.945000</td>\n",
       "    </tr>\n",
       "    <tr>\n",
       "      <th>75%</th>\n",
       "      <td>16.000000</td>\n",
       "      <td>1000.000000</td>\n",
       "      <td>15.600000</td>\n",
       "      <td>1708.970000</td>\n",
       "    </tr>\n",
       "    <tr>\n",
       "      <th>max</th>\n",
       "      <td>128.000000</td>\n",
       "      <td>4000.000000</td>\n",
       "      <td>18.000000</td>\n",
       "      <td>7150.470000</td>\n",
       "    </tr>\n",
       "  </tbody>\n",
       "</table>\n",
       "</div>"
      ],
      "text/plain": [
       "               ram      storage       screen  final_price\n",
       "count  2160.000000  2160.000000  2156.000000  2160.000000\n",
       "mean     15.413889   596.294444    15.168112  1312.638509\n",
       "std       9.867815   361.220506     1.203329   911.475417\n",
       "min       4.000000     0.000000    10.100000   201.050000\n",
       "25%       8.000000   256.000000    14.000000   661.082500\n",
       "50%      16.000000   512.000000    15.600000  1031.945000\n",
       "75%      16.000000  1000.000000    15.600000  1708.970000\n",
       "max     128.000000  4000.000000    18.000000  7150.470000"
      ]
     },
     "execution_count": 8,
     "metadata": {},
     "output_type": "execute_result"
    }
   ],
   "source": [
    "# checking distribution and spread of each column\n",
    "\n",
    "df_selected.describe()"
   ]
  },
  {
   "cell_type": "markdown",
   "id": "87b30031",
   "metadata": {},
   "source": [
    "## Review\n",
    "\n",
    "I can already see that there are 4 missing values in 'screen' column and that the median (50%) for ram is 16"
   ]
  },
  {
   "cell_type": "code",
   "execution_count": 9,
   "id": "f0957eb0",
   "metadata": {},
   "outputs": [
    {
     "data": {
      "text/plain": [
       "<AxesSubplot:xlabel='final_price', ylabel='Count'>"
      ]
     },
     "execution_count": 9,
     "metadata": {},
     "output_type": "execute_result"
    },
    {
     "data": {
      "image/png": "[encoded data removed]",
      "text/plain": [
       "<Figure size 640x480 with 1 Axes>"
      ]
     },
     "metadata": {},
     "output_type": "display_data"
    }
   ],
   "source": [
    "# checking the distribution of final_price\n",
    "\n",
    "sns.histplot(df_selected.final_price) "
   ]
  },
  {
   "cell_type": "markdown",
   "id": "80253190",
   "metadata": {},
   "source": [
    "## Review\n",
    "\n",
    "It is a right (or positively) skewed distribution with a long tail on the right side. The majority of the data points are concentrated on the left (showing lower prices), with a long tail extending to the right (higher prices)"
   ]
  },
  {
   "cell_type": "code",
   "execution_count": 10,
   "id": "1a4ff4ee",
   "metadata": {},
   "outputs": [
    {
     "data": {
      "text/plain": [
       "ram            0\n",
       "storage        0\n",
       "screen         4\n",
       "final_price    0\n",
       "dtype: int64"
      ]
     },
     "execution_count": 10,
     "metadata": {},
     "output_type": "execute_result"
    }
   ],
   "source": [
    "# confirming the number of missing values for screen variable\n",
    "\n",
    "df_selected.isnull().sum()"
   ]
  },
  {
   "cell_type": "markdown",
   "id": "3630095f",
   "metadata": {},
   "source": [
    "# Prepare and split the dataset\n",
    "\n",
    "- Shuffle the dataset (the filtered one you created above), use seed 42.\n",
    "- Split your data in train/val/test sets, with 60%/20%/20% distribution.\n",
    "- Use the same code as in the lectures"
   ]
  },
  {
   "cell_type": "code",
   "execution_count": 11,
   "id": "1ba7b990",
   "metadata": {},
   "outputs": [
    {
     "data": {
      "text/plain": [
       "2160"
      ]
     },
     "execution_count": 11,
     "metadata": {},
     "output_type": "execute_result"
    }
   ],
   "source": [
    "# defining the length of the df_selected\n",
    "\n",
    "n = len(df_selected)\n",
    "n"
   ]
  },
  {
   "cell_type": "code",
   "execution_count": 12,
   "id": "356896ac",
   "metadata": {},
   "outputs": [],
   "source": [
    "# setting index df_selected using seed 42\n",
    "\n",
    "np.random.seed(42)\n",
    "idx = np.arange(n)\n",
    "np.random.shuffle(idx)"
   ]
  },
  {
   "cell_type": "code",
   "execution_count": 13,
   "id": "b5e1ab4f",
   "metadata": {},
   "outputs": [],
   "source": [
    "# shuffling df_selected based on the shuffled index\n",
    "\n",
    "df_selected_shuffled = df_selected.iloc[idx].reset_index(drop=True)"
   ]
  },
  {
   "cell_type": "code",
   "execution_count": 14,
   "id": "24bb9e25",
   "metadata": {},
   "outputs": [
    {
     "data": {
      "text/html": [
       "<div>\n",
       "<style scoped>\n",
       "    .dataframe tbody tr th:only-of-type {\n",
       "        vertical-align: middle;\n",
       "    }\n",
       "\n",
       "    .dataframe tbody tr th {\n",
       "        vertical-align: top;\n",
       "    }\n",
       "\n",
       "    .dataframe thead th {\n",
       "        text-align: right;\n",
       "    }\n",
       "</style>\n",
       "<table border=\"1\" class=\"dataframe\">\n",
       "  <thead>\n",
       "    <tr style=\"text-align: right;\">\n",
       "      <th></th>\n",
       "      <th>ram</th>\n",
       "      <th>storage</th>\n",
       "      <th>screen</th>\n",
       "      <th>final_price</th>\n",
       "    </tr>\n",
       "  </thead>\n",
       "  <tbody>\n",
       "    <tr>\n",
       "      <th>0</th>\n",
       "      <td>32</td>\n",
       "      <td>1000</td>\n",
       "      <td>15.6</td>\n",
       "      <td>1123.29</td>\n",
       "    </tr>\n",
       "    <tr>\n",
       "      <th>1</th>\n",
       "      <td>4</td>\n",
       "      <td>64</td>\n",
       "      <td>14.1</td>\n",
       "      <td>201.05</td>\n",
       "    </tr>\n",
       "    <tr>\n",
       "      <th>2</th>\n",
       "      <td>32</td>\n",
       "      <td>1000</td>\n",
       "      <td>14.0</td>\n",
       "      <td>997.74</td>\n",
       "    </tr>\n",
       "    <tr>\n",
       "      <th>3</th>\n",
       "      <td>16</td>\n",
       "      <td>512</td>\n",
       "      <td>13.3</td>\n",
       "      <td>1016.00</td>\n",
       "    </tr>\n",
       "    <tr>\n",
       "      <th>4</th>\n",
       "      <td>32</td>\n",
       "      <td>1000</td>\n",
       "      <td>16.0</td>\n",
       "      <td>2739.00</td>\n",
       "    </tr>\n",
       "    <tr>\n",
       "      <th>...</th>\n",
       "      <td>...</td>\n",
       "      <td>...</td>\n",
       "      <td>...</td>\n",
       "      <td>...</td>\n",
       "    </tr>\n",
       "    <tr>\n",
       "      <th>2155</th>\n",
       "      <td>8</td>\n",
       "      <td>512</td>\n",
       "      <td>15.0</td>\n",
       "      <td>1838.29</td>\n",
       "    </tr>\n",
       "    <tr>\n",
       "      <th>2156</th>\n",
       "      <td>8</td>\n",
       "      <td>256</td>\n",
       "      <td>15.6</td>\n",
       "      <td>531.80</td>\n",
       "    </tr>\n",
       "    <tr>\n",
       "      <th>2157</th>\n",
       "      <td>8</td>\n",
       "      <td>256</td>\n",
       "      <td>13.3</td>\n",
       "      <td>765.33</td>\n",
       "    </tr>\n",
       "    <tr>\n",
       "      <th>2158</th>\n",
       "      <td>8</td>\n",
       "      <td>512</td>\n",
       "      <td>14.0</td>\n",
       "      <td>803.61</td>\n",
       "    </tr>\n",
       "    <tr>\n",
       "      <th>2159</th>\n",
       "      <td>32</td>\n",
       "      <td>1000</td>\n",
       "      <td>16.0</td>\n",
       "      <td>2102.18</td>\n",
       "    </tr>\n",
       "  </tbody>\n",
       "</table>\n",
       "<p>2160 rows × 4 columns</p>\n",
       "</div>"
      ],
      "text/plain": [
       "      ram  storage  screen  final_price\n",
       "0      32     1000    15.6      1123.29\n",
       "1       4       64    14.1       201.05\n",
       "2      32     1000    14.0       997.74\n",
       "3      16      512    13.3      1016.00\n",
       "4      32     1000    16.0      2739.00\n",
       "...   ...      ...     ...          ...\n",
       "2155    8      512    15.0      1838.29\n",
       "2156    8      256    15.6       531.80\n",
       "2157    8      256    13.3       765.33\n",
       "2158    8      512    14.0       803.61\n",
       "2159   32     1000    16.0      2102.18\n",
       "\n",
       "[2160 rows x 4 columns]"
      ]
     },
     "execution_count": 14,
     "metadata": {},
     "output_type": "execute_result"
    }
   ],
   "source": [
    "# checking outcome \n",
    "\n",
    "df_selected_shuffled"
   ]
  },
  {
   "cell_type": "code",
   "execution_count": 15,
   "id": "77c1fcfb",
   "metadata": {},
   "outputs": [],
   "source": [
    "# splitting the df_selected_shuffled to validation, test and train sets\n",
    "\n",
    "n = len(df_selected_shuffled)\n",
    "n_val = int(len(df_selected_shuffled) * 0.2) # 20% for validation\n",
    "n_test =  int(len(df_selected_shuffled) * 0.2) # 20% for testing\n",
    "n_train = int(len(df_selected_shuffled) * 0.6) # 60% for training"
   ]
  },
  {
   "cell_type": "code",
   "execution_count": 16,
   "id": "2552fba8",
   "metadata": {},
   "outputs": [
    {
     "data": {
      "text/plain": [
       "(2160, 2160)"
      ]
     },
     "execution_count": 16,
     "metadata": {},
     "output_type": "execute_result"
    }
   ],
   "source": [
    "# checking if the n matches the sum of n_val, n_test and n_train\n",
    "\n",
    "n, n_val + n_test + n_train"
   ]
  },
  {
   "cell_type": "code",
   "execution_count": 17,
   "id": "bbd5da77",
   "metadata": {},
   "outputs": [],
   "source": [
    "# creating the different dfs\n",
    "\n",
    "df_train = df_selected_shuffled.iloc[:n_train]\n",
    "df_val = df_selected_shuffled.iloc[n_train:n_train+n_val]\n",
    "df_test = df_selected_shuffled.iloc[n_train+n_val:]"
   ]
  },
  {
   "cell_type": "code",
   "execution_count": 18,
   "id": "6e13f75f",
   "metadata": {},
   "outputs": [
    {
     "data": {
      "text/html": [
       "<div>\n",
       "<style scoped>\n",
       "    .dataframe tbody tr th:only-of-type {\n",
       "        vertical-align: middle;\n",
       "    }\n",
       "\n",
       "    .dataframe tbody tr th {\n",
       "        vertical-align: top;\n",
       "    }\n",
       "\n",
       "    .dataframe thead th {\n",
       "        text-align: right;\n",
       "    }\n",
       "</style>\n",
       "<table border=\"1\" class=\"dataframe\">\n",
       "  <thead>\n",
       "    <tr style=\"text-align: right;\">\n",
       "      <th></th>\n",
       "      <th>ram</th>\n",
       "      <th>storage</th>\n",
       "      <th>screen</th>\n",
       "      <th>final_price</th>\n",
       "    </tr>\n",
       "  </thead>\n",
       "  <tbody>\n",
       "    <tr>\n",
       "      <th>0</th>\n",
       "      <td>32</td>\n",
       "      <td>1000</td>\n",
       "      <td>15.6</td>\n",
       "      <td>1123.29</td>\n",
       "    </tr>\n",
       "    <tr>\n",
       "      <th>1</th>\n",
       "      <td>4</td>\n",
       "      <td>64</td>\n",
       "      <td>14.1</td>\n",
       "      <td>201.05</td>\n",
       "    </tr>\n",
       "    <tr>\n",
       "      <th>2</th>\n",
       "      <td>32</td>\n",
       "      <td>1000</td>\n",
       "      <td>14.0</td>\n",
       "      <td>997.74</td>\n",
       "    </tr>\n",
       "    <tr>\n",
       "      <th>3</th>\n",
       "      <td>16</td>\n",
       "      <td>512</td>\n",
       "      <td>13.3</td>\n",
       "      <td>1016.00</td>\n",
       "    </tr>\n",
       "    <tr>\n",
       "      <th>4</th>\n",
       "      <td>32</td>\n",
       "      <td>1000</td>\n",
       "      <td>16.0</td>\n",
       "      <td>2739.00</td>\n",
       "    </tr>\n",
       "    <tr>\n",
       "      <th>5</th>\n",
       "      <td>16</td>\n",
       "      <td>1000</td>\n",
       "      <td>15.6</td>\n",
       "      <td>1183.68</td>\n",
       "    </tr>\n",
       "    <tr>\n",
       "      <th>6</th>\n",
       "      <td>16</td>\n",
       "      <td>500</td>\n",
       "      <td>14.0</td>\n",
       "      <td>1123.00</td>\n",
       "    </tr>\n",
       "    <tr>\n",
       "      <th>7</th>\n",
       "      <td>8</td>\n",
       "      <td>512</td>\n",
       "      <td>15.6</td>\n",
       "      <td>423.58</td>\n",
       "    </tr>\n",
       "    <tr>\n",
       "      <th>8</th>\n",
       "      <td>32</td>\n",
       "      <td>512</td>\n",
       "      <td>16.0</td>\n",
       "      <td>2866.16</td>\n",
       "    </tr>\n",
       "    <tr>\n",
       "      <th>9</th>\n",
       "      <td>32</td>\n",
       "      <td>1000</td>\n",
       "      <td>17.3</td>\n",
       "      <td>3399.99</td>\n",
       "    </tr>\n",
       "  </tbody>\n",
       "</table>\n",
       "</div>"
      ],
      "text/plain": [
       "   ram  storage  screen  final_price\n",
       "0   32     1000    15.6      1123.29\n",
       "1    4       64    14.1       201.05\n",
       "2   32     1000    14.0       997.74\n",
       "3   16      512    13.3      1016.00\n",
       "4   32     1000    16.0      2739.00\n",
       "5   16     1000    15.6      1183.68\n",
       "6   16      500    14.0      1123.00\n",
       "7    8      512    15.6       423.58\n",
       "8   32      512    16.0      2866.16\n",
       "9   32     1000    17.3      3399.99"
      ]
     },
     "execution_count": 18,
     "metadata": {},
     "output_type": "execute_result"
    }
   ],
   "source": [
    "# checking outcome\n",
    "\n",
    "df_train.head(10)"
   ]
  },
  {
   "cell_type": "code",
   "execution_count": 19,
   "id": "3e8dc8d5",
   "metadata": {},
   "outputs": [
    {
     "data": {
      "text/plain": [
       "(1296, 432, 432)"
      ]
     },
     "execution_count": 19,
     "metadata": {},
     "output_type": "execute_result"
    }
   ],
   "source": [
    "# checking sizes for all datasets\n",
    "\n",
    "len(df_train), len(df_val), len(df_test)"
   ]
  },
  {
   "cell_type": "markdown",
   "id": "c54d269e",
   "metadata": {},
   "source": [
    "# Question 3\n",
    "\n",
    "- We need to deal with missing values for the column from Q1.\n",
    "- We have two options: fill it with 0 or with the mean of this variable.\n",
    "- Try both options. For each, train a linear regression model without regularization using the code from the lessons.\n",
    "- For computing the mean, use the training only!\n",
    "- Use the validation dataset to evaluate the models and compare the RMSE of each option.\n",
    "- Round the RMSE scores to 2 decimal digits using round(score, 2)\n",
    "- Which option gives better RMSE?\n",
    "- Options:\n",
    "\n",
    "    - With 0\n",
    "    - With mean\n",
    "    - Both are equally good"
   ]
  },
  {
   "cell_type": "markdown",
   "id": "16da4fe1",
   "metadata": {},
   "source": [
    "# Linear regression model / Missing values = NULL"
   ]
  },
  {
   "cell_type": "code",
   "execution_count": 20,
   "id": "cb2675dc",
   "metadata": {},
   "outputs": [],
   "source": [
    "# preparing data by filling missing values with 0\n",
    "\n",
    "df_train_zero = df_train.copy() # making copy of df_train so i can implement mean strategy later \n",
    "df_train_zero['screen'] = df_train_zero['screen'].fillna(0)\n",
    "\n",
    "df_val_zero = df_val.copy()\n",
    "df_val_zero['screen'] = df_val_zero['screen'].fillna(0) # making copy of df_train so i can implement mean strategy later "
   ]
  },
  {
   "cell_type": "code",
   "execution_count": 21,
   "id": "e1510885",
   "metadata": {},
   "outputs": [],
   "source": [
    "# setting the feature matrix X and target variable y\n",
    "\n",
    "base = ['ram', 'storage', 'screen']\n",
    "X_train_zero = df_train_zero[base].values\n",
    "y_train = np.log1p(df_train_zero['final_price'].values) # applying logarithmic for model compatability\n",
    "\n",
    "X_val_zero = df_val_zero[base].values\n",
    "y_val = np.log1p(df_val_zero['final_price'].values) # applying logarithmic for model compatability"
   ]
  },
  {
   "cell_type": "code",
   "execution_count": 22,
   "id": "40620f11",
   "metadata": {},
   "outputs": [],
   "source": [
    "# setting the training in a function\n",
    "\n",
    "def train_linear_regression(X, y):\n",
    "    ones = np.ones(X.shape[0])\n",
    "    X = np.column_stack([ones, X])\n",
    "    \n",
    "    XTX = X.T.dot(X)\n",
    "    XTX_inv = np.linalg.inv(XTX)\n",
    "    w_full = XTX_inv.dot(X.T).dot(y)\n",
    "    \n",
    "    return w_full[0], w_full[1:]"
   ]
  },
  {
   "cell_type": "code",
   "execution_count": 23,
   "id": "0dcf129c",
   "metadata": {},
   "outputs": [],
   "source": [
    "# training the model with missing values filled with NULL\n",
    "\n",
    "w0_zero, w_zero = train_linear_regression(X_train_zero, y_train)"
   ]
  },
  {
   "cell_type": "code",
   "execution_count": 24,
   "id": "5c616a6d",
   "metadata": {},
   "outputs": [],
   "source": [
    "# predicting on validation set\n",
    "\n",
    "y_pred_zero = w0_zero + X_val_zero.dot(w_zero)"
   ]
  },
  {
   "cell_type": "code",
   "execution_count": 25,
   "id": "6fb74004",
   "metadata": {},
   "outputs": [
    {
     "name": "stdout",
     "output_type": "stream",
     "text": [
      "Validation RMSE (fill with 0): 0.43\n"
     ]
    }
   ],
   "source": [
    "# calculating RMSE for missing values = 0\n",
    "\n",
    "def rmse(y, y_pred):\n",
    "    se = (y - y_pred) ** 2\n",
    "    mse = se.mean()\n",
    "    return np.sqrt(mse)\n",
    "\n",
    "rmse_zero = round(rmse(y_val, y_pred_zero), 2)\n",
    "print(f\"Validation RMSE (fill with 0): {rmse_zero}\")"
   ]
  },
  {
   "cell_type": "markdown",
   "id": "d9cf8c57",
   "metadata": {},
   "source": [
    "# Linear regression model / Missing values = MEAN"
   ]
  },
  {
   "cell_type": "code",
   "execution_count": 26,
   "id": "11ae14b6",
   "metadata": {},
   "outputs": [],
   "source": [
    "# preparing data by filling missing values with 0\n",
    "\n",
    "screen_mean = df_train['screen'].mean() # calculating the mean only from df_train\n",
    "df_train_mean = df_train.copy()\n",
    "df_train_mean['screen'] = df_train_mean['screen'].fillna(screen_mean)\n",
    "\n",
    "df_val_mean = df_val.copy()\n",
    "df_val_mean['screen'] = df_val_mean['screen'].fillna(screen_mean)"
   ]
  },
  {
   "cell_type": "code",
   "execution_count": 27,
   "id": "fbaeef37",
   "metadata": {},
   "outputs": [],
   "source": [
    "# setting the feature matrix X and target variable y\n",
    "\n",
    "X_train_mean = df_train_mean[base].values\n",
    "\n",
    "X_val_mean = df_val_mean[base].values"
   ]
  },
  {
   "cell_type": "code",
   "execution_count": 28,
   "id": "7f13837d",
   "metadata": {},
   "outputs": [],
   "source": [
    "# training the model with missing values filled with mean\n",
    "\n",
    "w0_mean, w_mean = train_linear_regression(X_train_mean, y_train)"
   ]
  },
  {
   "cell_type": "code",
   "execution_count": 29,
   "id": "7b9647d6",
   "metadata": {},
   "outputs": [],
   "source": [
    "# predict on validation set\n",
    "\n",
    "y_pred_mean = w0_mean + X_val_mean.dot(w_mean)"
   ]
  },
  {
   "cell_type": "code",
   "execution_count": 30,
   "id": "42e5fdad",
   "metadata": {},
   "outputs": [
    {
     "name": "stdout",
     "output_type": "stream",
     "text": [
      "Validation RMSE (fill with mean): 0.43\n"
     ]
    }
   ],
   "source": [
    "# calculating RMSE for missing values replaced by df_train MEAN\n",
    "\n",
    "rmse_mean = round(rmse(y_val, y_pred_mean), 2)\n",
    "print(f\"Validation RMSE (fill with mean): {rmse_mean}\")"
   ]
  },
  {
   "cell_type": "markdown",
   "id": "14f530db",
   "metadata": {},
   "source": [
    "# Review\n",
    "\n",
    "When we are rounding to 2 decimals then both results are equal to 0.43"
   ]
  },
  {
   "cell_type": "markdown",
   "id": "f604b1ad",
   "metadata": {},
   "source": [
    "# Question 4\n",
    "\n",
    "- Now let's train a regularized linear regression.\n",
    "- For this question, fill the NAs with 0.\n",
    "- Try different values of r from this list: [0, 0.01, 0.1, 1, 5, 10, 100].\n",
    "- Use RMSE to evaluate the model on the validation dataset.\n",
    "- Round the RMSE scores to 2 decimal digits.\n",
    "- Which r gives the best RMSE?\n",
    "- If there are multiple options, select the smallest r.\n",
    "\n",
    "- Options:\n",
    "\n",
    "    - 0\n",
    "    - 0.01\n",
    "    - 1\n",
    "    - 10\n",
    "    - 100"
   ]
  },
  {
   "cell_type": "markdown",
   "id": "10ed584e",
   "metadata": {},
   "source": [
    "# Trainging regularised linear regression model"
   ]
  },
  {
   "cell_type": "code",
   "execution_count": 31,
   "id": "cc02ba6b",
   "metadata": {},
   "outputs": [],
   "source": [
    "# setting the different values of r to try\n",
    "\n",
    "r_values = [0, 0.01, 0.1, 1, 5, 10, 100]"
   ]
  },
  {
   "cell_type": "code",
   "execution_count": 32,
   "id": "c8f59ca0",
   "metadata": {},
   "outputs": [],
   "source": [
    "def train_linear_regression_reg(X, y, r):\n",
    "    ones = np.ones(X.shape[0])\n",
    "    X = np.column_stack([ones, X])\n",
    "    \n",
    "    # Regularised matrix calculation\n",
    "    XTX = X.T.dot(X)\n",
    "    XTX = XTX + r * np.eye(XTX.shape[0]) # adding parameter r to the diagonal\n",
    "    \n",
    "    XTX_inv = np.linalg.inv(XTX)\n",
    "    w_full = XTX_inv.dot(X.T).dot(y)\n",
    "    \n",
    "    return w_full[0], w_full[1:]"
   ]
  },
  {
   "cell_type": "code",
   "execution_count": 33,
   "id": "905878cd",
   "metadata": {},
   "outputs": [
    {
     "name": "stdout",
     "output_type": "stream",
     "text": [
      "r=0: Validation RMSE = 0.43\n",
      "r=0.01: Validation RMSE = 0.43\n",
      "r=0.1: Validation RMSE = 0.43\n",
      "r=1: Validation RMSE = 0.43\n",
      "r=5: Validation RMSE = 0.46\n",
      "r=10: Validation RMSE = 0.51\n",
      "r=100: Validation RMSE = 0.67\n"
     ]
    }
   ],
   "source": [
    "# evaluating model with different r values\n",
    "\n",
    "rmse_scores = []\n",
    "\n",
    "for r in r_values:\n",
    "    w0_ridge, w_ridge = train_linear_regression_reg(X_train_zero, y_train, r)\n",
    "    y_pred_ridge = w0_ridge + X_val_zero.dot(w_ridge)\n",
    "    rmse_ridge = round(rmse(y_val, y_pred_ridge), 2) # rounding the rmse to 2 decimals\n",
    "    rmse_scores.append((r, rmse_ridge))\n",
    "    print(f\"r={r}: Validation RMSE = {rmse_ridge}\")"
   ]
  },
  {
   "cell_type": "markdown",
   "id": "da9b4653",
   "metadata": {},
   "source": [
    "# Review\n",
    "\n",
    "r = 0, 0.01, 0.1 and 1 are all returning RMSE = 0.43"
   ]
  },
  {
   "cell_type": "markdown",
   "id": "3eebcae0",
   "metadata": {},
   "source": [
    "# Question 5\n",
    "\n",
    "- We used seed 42 for splitting the data. Let's find out how selecting the seed influences our score.\n",
    "- Try different seed values: [0, 1, 2, 3, 4, 5, 6, 7, 8, 9].\n",
    "- For each seed, do the train/validation/test split with 60%/20%/20% distribution.\n",
    "- Fill the missing values with 0 and train a model without regularization.\n",
    "- For each seed, evaluate the model on the validation dataset and collect the RMSE scores.\n",
    "- What's the standard deviation of all the scores? To compute the standard deviation, use np.std.\n",
    "- Round the result to 3 decimal digits (round(std, 3))\n",
    "- What's the value of std?\n",
    "\n",
    "    - 19.176\n",
    "    - 29.176\n",
    "    - 39.176\n",
    "    - 49.176\n",
    "    \n",
    "### Note: Standard deviation shows how different the values are. If it's low, then all values are approximately the same. If it's high, the values are different. If standard deviation of scores is low, then our model is stable."
   ]
  },
  {
   "cell_type": "markdown",
   "id": "1b8083fd",
   "metadata": {},
   "source": [
    "# Testing different seeds to split the data"
   ]
  },
  {
   "cell_type": "code",
   "execution_count": 34,
   "id": "0fa4fb68",
   "metadata": {},
   "outputs": [],
   "source": [
    "# setting the different seed values to test\n",
    "\n",
    "seeds = [0, 1, 2, 3, 4, 5, 6, 7, 8, 9]"
   ]
  },
  {
   "cell_type": "code",
   "execution_count": 35,
   "id": "9482c0ac",
   "metadata": {},
   "outputs": [],
   "source": [
    "# re-defining the length of the filtered dataset\n",
    "\n",
    "n = len(df_selected)"
   ]
  },
  {
   "cell_type": "code",
   "execution_count": 36,
   "id": "5cec5e83",
   "metadata": {},
   "outputs": [],
   "source": [
    "# creating a list to collect all the RMSE scores for each seed\n",
    "\n",
    "rmse_scores_seeds = []"
   ]
  },
  {
   "cell_type": "code",
   "execution_count": 37,
   "id": "b647deca",
   "metadata": {},
   "outputs": [],
   "source": [
    "# choosing columns again to be used for the model training\n",
    "\n",
    "base = ['ram', 'storage', 'screen']"
   ]
  },
  {
   "cell_type": "code",
   "execution_count": 38,
   "id": "c0b1ffb3",
   "metadata": {},
   "outputs": [
    {
     "name": "stdout",
     "output_type": "stream",
     "text": [
      "Seed=0: Validation RMSE = 565.45\n",
      "Seed=1: Validation RMSE = 636.8\n",
      "Seed=2: Validation RMSE = 588.96\n",
      "Seed=3: Validation RMSE = 597.81\n",
      "Seed=4: Validation RMSE = 571.96\n",
      "Seed=5: Validation RMSE = 573.24\n",
      "Seed=6: Validation RMSE = 647.34\n",
      "Seed=7: Validation RMSE = 550.44\n",
      "Seed=8: Validation RMSE = 587.33\n",
      "Seed=9: Validation RMSE = 576.1\n"
     ]
    }
   ],
   "source": [
    "# creating a loop to iterate over each seed value\n",
    "\n",
    "for seed in seeds:\n",
    "    \n",
    "    # shuffling and splitting data\n",
    "    \n",
    "    np.random.seed(seed)\n",
    "    idx = np.arange(n)\n",
    "    np.random.shuffle(idx)\n",
    "    \n",
    "    # shuffling the dataframe\n",
    "    \n",
    "    df_shuffled = df_selected.iloc[idx].reset_index(drop=True)\n",
    "    \n",
    "    # splitting into train, validation, and test sets (60%, 20%, 20%)\n",
    "    \n",
    "    n_train = int(len(df_shuffled) * 0.6)\n",
    "    n_val = int(len(df_shuffled) * 0.2)\n",
    "    n_test = int(len(df_shuffled) * 0.2)\n",
    "    \n",
    "    df_train = df_shuffled.iloc[:n_train]\n",
    "    df_val = df_shuffled.iloc[n_train:n_train + n_val]\n",
    "    df_test = df_shuffled.iloc[n_train + n_val:]\n",
    "    \n",
    "    # filling in missing values with 0 in 'screen' as previously\n",
    "    \n",
    "    df_train_zero = df_train.copy()\n",
    "    df_train_zero['screen'] = df_train_zero['screen'].fillna(0)\n",
    "    \n",
    "    df_val_zero = df_val.copy()\n",
    "    df_val_zero['screen'] = df_val_zero['screen'].fillna(0)\n",
    "    \n",
    "    # preparing the feature matrix X and target variable y without log transformation\n",
    "    \n",
    "    X_train_zero = df_train_zero[base].values\n",
    "    y_train = df_train_zero['final_price'].values\n",
    "    \n",
    "    X_val_zero = df_val_zero[base].values\n",
    "    y_val = df_val_zero['final_price'].values\n",
    "    \n",
    "    # training the model without regularization\n",
    "    \n",
    "    w0_zero, w_zero = train_linear_regression(X_train_zero, y_train)\n",
    "    \n",
    "    # predicting on validation set\n",
    "    \n",
    "    y_pred_zero = w0_zero + X_val_zero.dot(w_zero)\n",
    "    \n",
    "    # calculating the RMSE on the original scale\n",
    "    \n",
    "    rmse_zero = rmse(y_val, y_pred_zero)\n",
    "    rmse_scores_seeds.append(rmse_zero)\n",
    "    \n",
    "    # printing the RMSE for the current seed\n",
    "    \n",
    "    print(f\"Seed={seed}: Validation RMSE = {round(rmse_zero, 2)}\")"
   ]
  },
  {
   "cell_type": "code",
   "execution_count": 39,
   "id": "364a2a39",
   "metadata": {},
   "outputs": [
    {
     "name": "stdout",
     "output_type": "stream",
     "text": [
      "Standard deviation of RMSE scores (original scale): 29.176\n"
     ]
    }
   ],
   "source": [
    "# calculating standard deviation of all RMSE scores on the original scale\n",
    "\n",
    "std_rmse = round(np.std(rmse_scores_seeds), 3)\n",
    "print(f\"Standard deviation of RMSE scores (original scale): {std_rmse}\")"
   ]
  },
  {
   "cell_type": "markdown",
   "id": "0d502f7d",
   "metadata": {},
   "source": [
    "# Question 6\n",
    "\n",
    "- Split the dataset like previously, use seed 9.\n",
    "- Combine train and validation datasets.\n",
    "- Fill the missing values with 0 and train a model with r=0.001.\n",
    "- What's the RMSE on the test dataset?\n",
    "- Options:\n",
    "\n",
    "    - 598.60\n",
    "    - 608.60\n",
    "    - 618.60\n",
    "    - 628.60"
   ]
  },
  {
   "cell_type": "markdown",
   "id": "05de02e5",
   "metadata": {},
   "source": [
    "# Calculating RMSE on the test dataset with seed 9"
   ]
  },
  {
   "cell_type": "code",
   "execution_count": 58,
   "id": "f57236f1",
   "metadata": {},
   "outputs": [
    {
     "name": "stderr",
     "output_type": "stream",
     "text": [
      "/var/folders/k8/6mb93rb95jd6bknf4qsf29_r0000gn/T/ipykernel_99974/4015627071.py:3: SettingWithCopyWarning: \n",
      "A value is trying to be set on a copy of a slice from a DataFrame.\n",
      "Try using .loc[row_indexer,col_indexer] = value instead\n",
      "\n",
      "See the caveats in the documentation: https://pandas.pydata.org/pandas-docs/stable/user_guide/indexing.html#returning-a-view-versus-a-copy\n",
      "  df_selected['screen'] = df_selected['screen'].fillna(0)\n"
     ]
    }
   ],
   "source": [
    "# handling missing values in 'screen'\n",
    "\n",
    "df_selected['screen'] = df_selected['screen'].fillna(0)"
   ]
  },
  {
   "cell_type": "code",
   "execution_count": 59,
   "id": "da0e0a60",
   "metadata": {},
   "outputs": [],
   "source": [
    "# setting seed 9 in order to shuffle the dataset \n",
    "\n",
    "np.random.seed(9)\n",
    "idx = np.arange(n)\n",
    "np.random.shuffle(idx)"
   ]
  },
  {
   "cell_type": "code",
   "execution_count": 60,
   "id": "9ba74a47",
   "metadata": {},
   "outputs": [],
   "source": [
    "# shuffling the df\n",
    "\n",
    "df_shuffled = df_selected.iloc[idx].reset_index(drop=True)"
   ]
  },
  {
   "cell_type": "code",
   "execution_count": 61,
   "id": "c864f761",
   "metadata": {},
   "outputs": [],
   "source": [
    "# splitting again into train, val, and test sets (60%, 20%, 20%)\n",
    "\n",
    "n_train = int(len(df_shuffled) * 0.6)  # First 60% for training\n",
    "n_val = int(len(df_shuffled) * 0.2)    # Next 20% for validation\n",
    "\n",
    "df_train = df_shuffled.iloc[:n_train]  # Train set (first 60%)\n",
    "df_val = df_shuffled.iloc[n_train:n_train + n_val]  # Validation set (next 20%)\n",
    "df_test = df_shuffled.iloc[n_train + n_val:]  # Test set (remaining 20%)"
   ]
  },
  {
   "cell_type": "code",
   "execution_count": 62,
   "id": "a5645dc6",
   "metadata": {},
   "outputs": [],
   "source": [
    "# combining df_train and df_val\n",
    "\n",
    "df_train_combined = pd.concat([df_train, df_val]).reset_index(drop=True)"
   ]
  },
  {
   "cell_type": "code",
   "execution_count": 63,
   "id": "546d8acc",
   "metadata": {},
   "outputs": [],
   "source": [
    "# preparing feature matrix X and target variable y\n",
    "\n",
    "X_train_combined = df_train_combined[base].values\n",
    "y_train_combined = df_train_combined['final_price'].values\n",
    "\n",
    "X_test = df_test[base].values\n",
    "y_test = df_test['final_price'].values"
   ]
  },
  {
   "cell_type": "code",
   "execution_count": 64,
   "id": "edaae472",
   "metadata": {},
   "outputs": [],
   "source": [
    "# implementing the function, adding the new parameter r for regularisation\n",
    "\n",
    "def train_linear_regression_reg(X, y, r):\n",
    "    ones = np.ones(X.shape[0])\n",
    "    X = np.column_stack([ones, X])\n",
    "    \n",
    "    # regularised matrix calculation\n",
    "    \n",
    "    XTX = X.T.dot(X)\n",
    "    XTX = XTX + r * np.eye(XTX.shape[0]) # adding parameter r to the diagonal\n",
    "    \n",
    "    XTX_inv = np.linalg.inv(XTX)\n",
    "    w_full = XTX_inv.dot(X.T).dot(y)\n",
    "    \n",
    "    return w_full[0], w_full[1:]"
   ]
  },
  {
   "cell_type": "code",
   "execution_count": 65,
   "id": "c0d62eaa",
   "metadata": {},
   "outputs": [],
   "source": [
    "# training the model with r = 0.001\n",
    "\n",
    "r = 0.001\n",
    "w0_reg, w_reg = train_linear_regression_reg(X_train_combined, y_train_combined, r)"
   ]
  },
  {
   "cell_type": "code",
   "execution_count": 66,
   "id": "e6c15e56",
   "metadata": {},
   "outputs": [],
   "source": [
    "# predicting on test set\n",
    "\n",
    "y_pred_test = w0_reg + X_test.dot(w_reg)"
   ]
  },
  {
   "cell_type": "code",
   "execution_count": 67,
   "id": "3325940b",
   "metadata": {},
   "outputs": [
    {
     "name": "stdout",
     "output_type": "stream",
     "text": [
      "Test RMSE with r=0.001: 608.61\n"
     ]
    }
   ],
   "source": [
    "# calculating RMSE on the test set\n",
    "\n",
    "rmse_test = rmse(y_test, y_pred_test)\n",
    "print(f\"Test RMSE with r={r}: {round(rmse_test, 2)}\")"
   ]
  },
  {
   "cell_type": "code",
   "execution_count": null,
   "id": "b5cc236c",
   "metadata": {},
   "outputs": [],
   "source": []
  }
 ],
 "metadata": {
  "kernelspec": {
   "display_name": "Python 3 (ipykernel)",
   "language": "python",
   "name": "python3"
  },
  "language_info": {
   "codemirror_mode": {
    "name": "ipython",
    "version": 3
   },
   "file_extension": ".py",
   "mimetype": "text/x-python",
   "name": "python",
   "nbconvert_exporter": "python",
   "pygments_lexer": "ipython3",
   "version": "3.9.13"
  }
 },
 "nbformat": 4,
 "nbformat_minor": 5
}
